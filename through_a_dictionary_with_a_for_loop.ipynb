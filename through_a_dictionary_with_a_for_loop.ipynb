{
  "nbformat": 4,
  "nbformat_minor": 0,
  "metadata": {
    "colab": {
      "provenance": []
    },
    "kernelspec": {
      "name": "python3",
      "display_name": "Python 3"
    },
    "language_info": {
      "name": "python"
    }
  },
  "cells": [
    {
      "cell_type": "code",
      "execution_count": null,
      "metadata": {
        "colab": {
          "base_uri": "https://localhost:8080/"
        },
        "id": "A-Usax1j96hl",
        "outputId": "226ef751-338d-4d0f-b3f2-b7e6bfccd0ff"
      },
      "outputs": [
        {
          "output_type": "stream",
          "name": "stdout",
          "text": [
            "If you want to exit write STOP, else nothing. \n",
            "Enter the name: Anna\n",
            "Enter friend's age: 30\n",
            "Enter friend's city: London\n",
            "Penfriend's Anna info updated!\n",
            "If you want to exit write STOP, else nothing. David\n",
            "Enter the name: Lisbon\n",
            "Enter friend's age: 32\n",
            "Enter friend's city: Lisbon\n",
            "Penfriend's Lisbon info updated!\n",
            "If you want to exit write STOP, else nothing. STOP\n",
            "You've stopped entries for today. See you next time!\n"
          ]
        }
      ],
      "source": [
        "# Write a code example how to iterate through a dictionary with a for-loop\n",
        "\n",
        "my_penfriends = {} #initiate an empty dict\n",
        "\n",
        "def add_info(my_penfriends): #function of adding an item into a dict\n",
        "  penfriend_name = input(\"Enter the name: \") #key\n",
        "  penfriend_age = input(\"Enter friend's age: \") #value1\n",
        "  penfriend_city = input(\"Enter friend's city: \") #value2\n",
        "  my_penfriends[penfriend_name] = {\"age\": penfriend_age, \"city\": penfriend_city}\n",
        "  print(f\"Penfriend's {penfriend_name} info updated!\")\n",
        "\n",
        "while True:\n",
        "  exit = input('If you want to exit write STOP, else nothing. ')\n",
        "  if exit == 'STOP':\n",
        "    print(\"You've stopped entries for today. See you next time!\")\n",
        "    break\n",
        "  add_info(my_penfriends)\n"
      ]
    },
    {
      "cell_type": "code",
      "source": [
        "for name, info in my_penfriends.items():\n",
        "    print(f\"Penfriend: {name}, Age: {info['age']}, City: {info['city']}\")"
      ],
      "metadata": {
        "colab": {
          "base_uri": "https://localhost:8080/"
        },
        "id": "PAA35nAbBSkG",
        "outputId": "8564a8aa-2f47-48fa-ed3d-c8876b413657"
      },
      "execution_count": null,
      "outputs": [
        {
          "output_type": "stream",
          "name": "stdout",
          "text": [
            "Penfriend: Anna, Age: 30, City: London\n",
            "Penfriend: Lisbon, Age: 32, City: Lisbon\n"
          ]
        }
      ]
    }
  ]
}