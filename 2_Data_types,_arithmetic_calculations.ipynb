{
  "nbformat": 4,
  "nbformat_minor": 0,
  "metadata": {
    "colab": {
      "provenance": []
    },
    "kernelspec": {
      "name": "python3",
      "display_name": "Python 3"
    },
    "language_info": {
      "name": "python"
    }
  },
  "cells": [
    {
      "cell_type": "code",
      "execution_count": null,
      "metadata": {
        "id": "AlLSEvXEMdMq"
      },
      "outputs": [],
      "source": [
        "# data types\n",
        "\n",
        "x = 14\n",
        "print (x)"
      ]
    },
    {
      "cell_type": "code",
      "source": [
        "print (type(x))"
      ],
      "metadata": {
        "colab": {
          "base_uri": "https://localhost:8080/"
        },
        "id": "PC2rY6GGM9c-",
        "outputId": "7eaf97a4-dc7b-4a06-c654-eff87983be8d"
      },
      "execution_count": null,
      "outputs": [
        {
          "output_type": "stream",
          "name": "stdout",
          "text": [
            "<class 'int'>\n"
          ]
        }
      ]
    },
    {
      "cell_type": "code",
      "source": [
        "x1 = -1\n",
        "print (type(x))"
      ],
      "metadata": {
        "colab": {
          "base_uri": "https://localhost:8080/"
        },
        "id": "r2UfD7plNJey",
        "outputId": "bc7d076a-c483-4405-d432-2edb8ea19137"
      },
      "execution_count": null,
      "outputs": [
        {
          "output_type": "stream",
          "name": "stdout",
          "text": [
            "<class 'int'>\n"
          ]
        }
      ]
    },
    {
      "cell_type": "code",
      "source": [
        "#Floats\n",
        "nearly_pi = 3.14\n",
        "print (nearly_pi)\n",
        "print (type(nearly_pi))"
      ],
      "metadata": {
        "colab": {
          "base_uri": "https://localhost:8080/"
        },
        "id": "KSPRgi8GNxO9",
        "outputId": "d8d2fa57-bc8f-4521-b240-1c9489e7f420"
      },
      "execution_count": null,
      "outputs": [
        {
          "output_type": "stream",
          "name": "stdout",
          "text": [
            "3.14\n",
            "<class 'float'>\n"
          ]
        }
      ]
    },
    {
      "cell_type": "code",
      "source": [
        "nearly_pi1 = 22/7\n",
        "print (nearly_pi1)\n",
        "print (type(nearly_pi1))\n"
      ],
      "metadata": {
        "colab": {
          "base_uri": "https://localhost:8080/"
        },
        "id": "cqEXW_E8ON-Z",
        "outputId": "afd0bff3-98cf-4ec0-a28d-73cafd5bf00c"
      },
      "execution_count": null,
      "outputs": [
        {
          "output_type": "stream",
          "name": "stdout",
          "text": [
            "3.142857142857143\n",
            "<class 'float'>\n"
          ]
        }
      ]
    },
    {
      "cell_type": "code",
      "source": [
        "#Rounding float\n",
        "rounded_nearly_pi1 = round(nearly_pi1, 2)\n",
        "print (rounded_nearly_pi1)\n",
        "print (type(rounded_nearly_pi1))"
      ],
      "metadata": {
        "colab": {
          "base_uri": "https://localhost:8080/"
        },
        "id": "sWbzlk9ZPMHU",
        "outputId": "195b788d-ad0d-4b05-aef1-cd1d52206520"
      },
      "execution_count": null,
      "outputs": [
        {
          "output_type": "stream",
          "name": "stdout",
          "text": [
            "3.14\n",
            "<class 'float'>\n"
          ]
        }
      ]
    },
    {
      "cell_type": "code",
      "source": [
        "type(round(nearly_pi1)) # default is 0"
      ],
      "metadata": {
        "colab": {
          "base_uri": "https://localhost:8080/"
        },
        "id": "NytCuvSmQo8o",
        "outputId": "832acfd5-adae-456e-9bd7-7da78ea262d5"
      },
      "execution_count": null,
      "outputs": [
        {
          "output_type": "execute_result",
          "data": {
            "text/plain": [
              "int"
            ]
          },
          "metadata": {},
          "execution_count": 17
        }
      ]
    },
    {
      "cell_type": "code",
      "source": [
        "type(round(nearly_pi1, 0)) # I actyally entered zero"
      ],
      "metadata": {
        "colab": {
          "base_uri": "https://localhost:8080/"
        },
        "id": "gDQN9xyIRWyL",
        "outputId": "df76af9d-fca8-4f81-8537-a7193cbd9224"
      },
      "execution_count": null,
      "outputs": [
        {
          "output_type": "execute_result",
          "data": {
            "text/plain": [
              "float"
            ]
          },
          "metadata": {},
          "execution_count": 16
        }
      ]
    },
    {
      "cell_type": "code",
      "source": [
        "#Booleans\n",
        "\n",
        "boolean1 = False\n",
        "\n",
        "print(boolean1)\n",
        "print(type(boolean1))"
      ],
      "metadata": {
        "colab": {
          "base_uri": "https://localhost:8080/"
        },
        "id": "IH1Fz--CR1_g",
        "outputId": "1042d1e2-c2d5-4583-a2f5-705c8590777c"
      },
      "execution_count": null,
      "outputs": [
        {
          "output_type": "stream",
          "name": "stdout",
          "text": [
            "False\n",
            "<class 'bool'>\n"
          ]
        }
      ]
    },
    {
      "cell_type": "code",
      "source": [
        "boolean2 = (1<2)\n",
        "print(boolean2)\n",
        "print(type(boolean2))"
      ],
      "metadata": {
        "colab": {
          "base_uri": "https://localhost:8080/"
        },
        "id": "utcuus8QSbB5",
        "outputId": "097e41d1-d792-4059-936d-6c7c5f7caef0"
      },
      "execution_count": null,
      "outputs": [
        {
          "output_type": "stream",
          "name": "stdout",
          "text": [
            "True\n",
            "<class 'bool'>\n"
          ]
        }
      ]
    },
    {
      "cell_type": "code",
      "source": [
        "boolean3 = (5<3)\n",
        "print(boolean3)\n"
      ],
      "metadata": {
        "colab": {
          "base_uri": "https://localhost:8080/"
        },
        "id": "FOYq38SlSzWl",
        "outputId": "e99c59a9-f639-43bc-bec2-f0faeeba4835"
      },
      "execution_count": null,
      "outputs": [
        {
          "output_type": "stream",
          "name": "stdout",
          "text": [
            "False\n"
          ]
        }
      ]
    },
    {
      "cell_type": "code",
      "source": [
        "boolean4 = not boolean3 #'not' gives opposite result\n",
        "print(boolean4)"
      ],
      "metadata": {
        "colab": {
          "base_uri": "https://localhost:8080/"
        },
        "id": "3X2XjlQGS7rn",
        "outputId": "44ef5092-10d4-4b94-d9b0-e581fbd97726"
      },
      "execution_count": null,
      "outputs": [
        {
          "output_type": "stream",
          "name": "stdout",
          "text": [
            "True\n"
          ]
        }
      ]
    },
    {
      "cell_type": "code",
      "source": [
        "# true == 1\n",
        "# false == 0\n",
        "\n",
        "boolean5 = True + False\n",
        "print(boolean5)\n"
      ],
      "metadata": {
        "colab": {
          "base_uri": "https://localhost:8080/"
        },
        "id": "qLVuG5ZdTVW9",
        "outputId": "a1e6bffd-6b6d-40b1-b3e2-2dbf278a9fd3"
      },
      "execution_count": null,
      "outputs": [
        {
          "output_type": "stream",
          "name": "stdout",
          "text": [
            "1\n"
          ]
        }
      ]
    },
    {
      "cell_type": "code",
      "source": [
        "boolean6 = True + False + False + True\n",
        "print(boolean6)\n",
        "print(type(boolean6))"
      ],
      "metadata": {
        "colab": {
          "base_uri": "https://localhost:8080/"
        },
        "id": "ewUh7NQQUKhp",
        "outputId": "0635e7a0-01a6-457f-ecd9-95963abb57f6"
      },
      "execution_count": null,
      "outputs": [
        {
          "output_type": "stream",
          "name": "stdout",
          "text": [
            "2\n",
            "<class 'int'>\n"
          ]
        }
      ]
    },
    {
      "cell_type": "code",
      "source": [
        "#strings are the values of text\n",
        "\n",
        "string1 = \"Hello!\"\n",
        "print(string1)\n",
        "type(string1)\n"
      ],
      "metadata": {
        "colab": {
          "base_uri": "https://localhost:8080/"
        },
        "id": "vERGxM1DUweR",
        "outputId": "723e9379-0e98-40dc-d5e6-493da199ccb3"
      },
      "execution_count": null,
      "outputs": [
        {
          "output_type": "stream",
          "name": "stdout",
          "text": [
            "Hello!\n"
          ]
        },
        {
          "output_type": "execute_result",
          "data": {
            "text/plain": [
              "str"
            ]
          },
          "metadata": {},
          "execution_count": 29
        }
      ]
    },
    {
      "cell_type": "code",
      "source": [
        "len(string1)"
      ],
      "metadata": {
        "colab": {
          "base_uri": "https://localhost:8080/"
        },
        "id": "dMw7VWLEVRkZ",
        "outputId": "9a325a68-f78a-44ac-941e-d682cd035126"
      },
      "execution_count": null,
      "outputs": [
        {
          "output_type": "execute_result",
          "data": {
            "text/plain": [
              "6"
            ]
          },
          "metadata": {},
          "execution_count": 30
        }
      ]
    },
    {
      "cell_type": "code",
      "source": [
        "nearly_pi_string = '3.14'\n",
        "type(nearly_pi_string)\n"
      ],
      "metadata": {
        "colab": {
          "base_uri": "https://localhost:8080/"
        },
        "id": "IiKBeRT_VYOc",
        "outputId": "91a6c5b0-4944-4139-82e8-b345b1325dcb"
      },
      "execution_count": null,
      "outputs": [
        {
          "output_type": "execute_result",
          "data": {
            "text/plain": [
              "str"
            ]
          },
          "metadata": {},
          "execution_count": 31
        }
      ]
    },
    {
      "cell_type": "code",
      "source": [
        "nearly_pi_converted = float(nearly_pi_string)\n",
        "type(nearly_pi_converted)\n"
      ],
      "metadata": {
        "colab": {
          "base_uri": "https://localhost:8080/"
        },
        "id": "0B4bMlJ9VrKs",
        "outputId": "53a6ac26-6074-4b98-da72-1acca49f3ea9"
      },
      "execution_count": null,
      "outputs": [
        {
          "output_type": "execute_result",
          "data": {
            "text/plain": [
              "float"
            ]
          },
          "metadata": {},
          "execution_count": 32
        }
      ]
    },
    {
      "cell_type": "code",
      "source": [
        "new_string = \"abc\" + \"def\"\n",
        "print(new_string)\n"
      ],
      "metadata": {
        "colab": {
          "base_uri": "https://localhost:8080/"
        },
        "id": "z5rMYmGHWUdZ",
        "outputId": "6171d9b3-58f5-4c13-a36a-d94e356c39b2"
      },
      "execution_count": null,
      "outputs": [
        {
          "output_type": "stream",
          "name": "stdout",
          "text": [
            "abcdef\n"
          ]
        }
      ]
    },
    {
      "cell_type": "markdown",
      "source": [
        "### Arithmetic calculations"
      ],
      "metadata": {
        "id": "KXRnQnb0Wzgy"
      }
    },
    {
      "cell_type": "code",
      "source": [
        "#addition\n",
        "a = 5\n",
        "b = 3\n",
        "sum = a+b\n",
        "print(f'SUM: {sum}')\n"
      ],
      "metadata": {
        "colab": {
          "base_uri": "https://localhost:8080/"
        },
        "id": "hYccLmAFWx0e",
        "outputId": "99e4d7c5-a92c-4f33-f628-b2b228f492e1"
      },
      "execution_count": null,
      "outputs": [
        {
          "output_type": "stream",
          "name": "stdout",
          "text": [
            "SUM: 8\n"
          ]
        }
      ]
    },
    {
      "cell_type": "code",
      "source": [
        "print(a)\n",
        "type(sum)\n",
        "print(b)\n"
      ],
      "metadata": {
        "colab": {
          "base_uri": "https://localhost:8080/"
        },
        "id": "eArr3sJgXPAq",
        "outputId": "0cf1a872-cb93-4a51-fa89-8afd0ca61eaa"
      },
      "execution_count": null,
      "outputs": [
        {
          "output_type": "stream",
          "name": "stdout",
          "text": [
            "5\n",
            "3\n"
          ]
        }
      ]
    },
    {
      "cell_type": "code",
      "source": [
        "type(sum)"
      ],
      "metadata": {
        "colab": {
          "base_uri": "https://localhost:8080/"
        },
        "id": "EUNxstiEXnhy",
        "outputId": "204b8284-5764-4490-a5da-8008242c8442"
      },
      "execution_count": null,
      "outputs": [
        {
          "output_type": "execute_result",
          "data": {
            "text/plain": [
              "int"
            ]
          },
          "metadata": {},
          "execution_count": 36
        }
      ]
    },
    {
      "cell_type": "code",
      "source": [
        "# substractions\n",
        "\n",
        "difference = a - b\n",
        "print(f'Difference: {difference}')"
      ],
      "metadata": {
        "colab": {
          "base_uri": "https://localhost:8080/"
        },
        "id": "eSMAfQZoY5Ij",
        "outputId": "4d442387-d6ef-4f64-e417-42a73d066bb5"
      },
      "execution_count": null,
      "outputs": [
        {
          "output_type": "stream",
          "name": "stdout",
          "text": [
            "Difference: 2\n"
          ]
        }
      ]
    },
    {
      "cell_type": "code",
      "source": [
        "# multiplications\n",
        "\n",
        "multip = a * b\n",
        "print(f'multiplication: {multip}')"
      ],
      "metadata": {
        "colab": {
          "base_uri": "https://localhost:8080/"
        },
        "id": "7CNPikBQZKgd",
        "outputId": "baf2d036-f447-4d6f-d452-844110177aa4"
      },
      "execution_count": null,
      "outputs": [
        {
          "output_type": "stream",
          "name": "stdout",
          "text": [
            "multiplication: 15\n"
          ]
        }
      ]
    },
    {
      "cell_type": "code",
      "source": [
        "# division\n",
        "\n",
        "div = a / b\n"
      ],
      "metadata": {
        "id": "aV8siWliZdWs"
      },
      "execution_count": null,
      "outputs": []
    },
    {
      "cell_type": "code",
      "source": [
        "# expo\n",
        "\n",
        "power = a ** b\n",
        "print(power)"
      ],
      "metadata": {
        "colab": {
          "base_uri": "https://localhost:8080/"
        },
        "id": "9YPyDiq0ZwC0",
        "outputId": "3ce9ac6d-0bb4-4c86-9a7e-2cbebd56b39d"
      },
      "execution_count": null,
      "outputs": [
        {
          "output_type": "stream",
          "name": "stdout",
          "text": [
            "125\n"
          ]
        }
      ]
    },
    {
      "cell_type": "code",
      "source": [
        "input1 = input('How old are you?') #string value!\n",
        "input2 = input('How old am I?: ')\n",
        "\n",
        "input1_int = int(input1)\n",
        "input2_int = int(input2)\n",
        "\n",
        "sum = input1_int + input2_int\n",
        "print(sum)\n"
      ],
      "metadata": {
        "colab": {
          "base_uri": "https://localhost:8080/"
        },
        "id": "OpIy7Iswce0m",
        "outputId": "0db6b9ad-a0ff-42f4-abce-4cb3cc1ab400"
      },
      "execution_count": 1,
      "outputs": [
        {
          "output_type": "stream",
          "name": "stdout",
          "text": [
            "How old are you?18\n",
            "How old am I?: 12\n",
            "30\n"
          ]
        }
      ]
    },
    {
      "cell_type": "code",
      "source": [],
      "metadata": {
        "id": "FOqDaHVRehBI"
      },
      "execution_count": null,
      "outputs": []
    },
    {
      "cell_type": "markdown",
      "source": [
        "##Density"
      ],
      "metadata": {
        "id": "61jAGLpNeiEu"
      }
    },
    {
      "cell_type": "code",
      "source": [
        "area = input(\"Enter area: \")\n",
        "population = input(\"Enter Population : \")\n",
        "\n",
        "area_int = int(area)\n",
        "population_int = int(population)\n",
        "\n",
        "density = population_int / area_int\n",
        "\n",
        "print(f'Average detsity is: {density}')"
      ],
      "metadata": {
        "id": "qG6nOdS5cfaC",
        "colab": {
          "base_uri": "https://localhost:8080/"
        },
        "outputId": "241842e9-2227-4c95-cd20-40f8e2e0b9b9"
      },
      "execution_count": 2,
      "outputs": [
        {
          "output_type": "stream",
          "name": "stdout",
          "text": [
            "Enter area: 33434\n",
            "Enter Population : 566\n",
            "Average detsity is: 0.01692887479810971\n"
          ]
        }
      ]
    },
    {
      "cell_type": "markdown",
      "source": [
        "##Converting pounds to kg"
      ],
      "metadata": {
        "id": "cgQCtvqBhxw2"
      }
    },
    {
      "cell_type": "code",
      "source": [
        "# 1 pound = 0.453592 kg\n",
        "\n",
        "pounds = input(\"Enter the weight in pounds: \")\n",
        "\n",
        "pounds_float = float(pounds)\n",
        "CONVERSION_FACTOR = 0.453592 # constant variable\n",
        "\n",
        "kilograms = round(pounds_float * CONVERSION_FACTOR, 3)\n",
        "\n",
        "print(f'Weight in pounds: {pounds} lb, Weight in Kilograms: {kilograms} kg')\n"
      ],
      "metadata": {
        "id": "qK9YLsMIcfl5",
        "colab": {
          "base_uri": "https://localhost:8080/",
          "height": 207
        },
        "outputId": "301c90de-a0bd-4f45-8659-669a7eefbd89"
      },
      "execution_count": null,
      "outputs": [
        {
          "output_type": "error",
          "ename": "TypeError",
          "evalue": "'str' object is not callable",
          "traceback": [
            "\u001b[0;31m---------------------------------------------------------------------------\u001b[0m",
            "\u001b[0;31mTypeError\u001b[0m                                 Traceback (most recent call last)",
            "\u001b[0;32m<ipython-input-59-74e5c6188496>\u001b[0m in \u001b[0;36m<cell line: 3>\u001b[0;34m()\u001b[0m\n\u001b[1;32m      1\u001b[0m \u001b[0;31m# 1 pound = 0.453592 kg\u001b[0m\u001b[0;34m\u001b[0m\u001b[0;34m\u001b[0m\u001b[0m\n\u001b[1;32m      2\u001b[0m \u001b[0;34m\u001b[0m\u001b[0m\n\u001b[0;32m----> 3\u001b[0;31m \u001b[0mpounds\u001b[0m \u001b[0;34m=\u001b[0m \u001b[0minput\u001b[0m\u001b[0;34m(\u001b[0m\u001b[0;34m\"Enter the weight in pounds: \"\u001b[0m\u001b[0;34m)\u001b[0m\u001b[0;34m\u001b[0m\u001b[0;34m\u001b[0m\u001b[0m\n\u001b[0m\u001b[1;32m      4\u001b[0m \u001b[0;34m\u001b[0m\u001b[0m\n\u001b[1;32m      5\u001b[0m \u001b[0mpounds_float\u001b[0m \u001b[0;34m=\u001b[0m \u001b[0mfloat\u001b[0m\u001b[0;34m(\u001b[0m\u001b[0mpounds\u001b[0m\u001b[0;34m)\u001b[0m\u001b[0;34m\u001b[0m\u001b[0;34m\u001b[0m\u001b[0m\n",
            "\u001b[0;31mTypeError\u001b[0m: 'str' object is not callable"
          ]
        }
      ]
    }
  ]
}