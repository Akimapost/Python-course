{
  "nbformat": 4,
  "nbformat_minor": 0,
  "metadata": {
    "colab": {
      "provenance": []
    },
    "kernelspec": {
      "name": "python3",
      "display_name": "Python 3"
    },
    "language_info": {
      "name": "python"
    }
  },
  "cells": [
    {
      "cell_type": "code",
      "execution_count": null,
      "metadata": {
        "colab": {
          "base_uri": "https://localhost:8080/"
        },
        "id": "DrLkeVYGOxPo",
        "outputId": "d725cff5-f62a-411f-bb4e-9c6cafd81816"
      },
      "outputs": [
        {
          "output_type": "stream",
          "name": "stdout",
          "text": [
            "True\n",
            "False\n"
          ]
        }
      ],
      "source": [
        "#COMPARISON OPERATORS\n",
        "\n",
        "#Assing a variable (==)\n",
        "x = 5\n",
        "y = 5\n",
        "\n",
        "print(x==5) #== for compare if x=5\n",
        "print('1'==1)"
      ]
    },
    {
      "cell_type": "code",
      "source": [
        "#Not equal (!=)\n",
        "print(x != y)"
      ],
      "metadata": {
        "colab": {
          "base_uri": "https://localhost:8080/"
        },
        "id": "illDAoSwQDr8",
        "outputId": "346d8988-73a1-428b-d6de-5833454a9332"
      },
      "execution_count": null,
      "outputs": [
        {
          "output_type": "stream",
          "name": "stdout",
          "text": [
            "False\n"
          ]
        }
      ]
    },
    {
      "cell_type": "code",
      "source": [
        "#Greater than (>)\n",
        "print (x>2)"
      ],
      "metadata": {
        "colab": {
          "base_uri": "https://localhost:8080/"
        },
        "id": "1Iiw5z9vQeVG",
        "outputId": "116fc2c0-c1fd-4ea0-c16b-508a57d8ef4c"
      },
      "execution_count": null,
      "outputs": [
        {
          "output_type": "stream",
          "name": "stdout",
          "text": [
            "True\n"
          ]
        }
      ]
    },
    {
      "cell_type": "code",
      "source": [
        "#Less than (<)\n",
        "print (x<10)"
      ],
      "metadata": {
        "colab": {
          "base_uri": "https://localhost:8080/"
        },
        "id": "OI5KfHhkQuP8",
        "outputId": "a48a0615-e8a7-427e-97f7-355c30250f5c"
      },
      "execution_count": null,
      "outputs": [
        {
          "output_type": "stream",
          "name": "stdout",
          "text": [
            "True\n"
          ]
        }
      ]
    },
    {
      "cell_type": "code",
      "source": [
        "#combine - greater  or equal to (>=)\n",
        "\n",
        "print (x>=4)"
      ],
      "metadata": {
        "colab": {
          "base_uri": "https://localhost:8080/"
        },
        "id": "EuqyI8FVQ4x3",
        "outputId": "15f7eda2-51b0-4c5b-f267-a12aeb1e8e13"
      },
      "execution_count": null,
      "outputs": [
        {
          "output_type": "stream",
          "name": "stdout",
          "text": [
            "True\n"
          ]
        }
      ]
    },
    {
      "cell_type": "code",
      "source": [
        "# IF ELSE statements (use 2or4 indentations or 1Tab insted of curly brases as in java)\n",
        "\n",
        "x = 100\n",
        "if x < 50:\n",
        "  print('Less then 50')\n",
        "else:\n",
        "  print('More then or equal to 50')\n",
        "print('Finish') #always prints because outside 'if else' statement and this is not a must"
      ],
      "metadata": {
        "colab": {
          "base_uri": "https://localhost:8080/"
        },
        "id": "CT96cVxpSL0D",
        "outputId": "016193da-a169-4571-8582-499f2666ce5d"
      },
      "execution_count": null,
      "outputs": [
        {
          "output_type": "stream",
          "name": "stdout",
          "text": [
            "More then or equal to 50\n",
            "Finish\n"
          ]
        }
      ]
    },
    {
      "cell_type": "code",
      "source": [
        "a = 20\n",
        "\n",
        "if a > 10:\n",
        "  print('a is above 10')\n",
        "  print('This is still in the block')\n",
        "print('This is outside  the block')"
      ],
      "metadata": {
        "colab": {
          "base_uri": "https://localhost:8080/"
        },
        "id": "vhPKKYW-VQdl",
        "outputId": "e80a7409-1d27-4736-ab21-af6a31bc35c2"
      },
      "execution_count": null,
      "outputs": [
        {
          "output_type": "stream",
          "name": "stdout",
          "text": [
            "a is above 10\n",
            "This is still in the block\n",
            "This is outside  the block\n"
          ]
        }
      ]
    },
    {
      "cell_type": "code",
      "source": [
        "age = int(input ('How olt are you?: '))\n",
        "\n",
        "if age >= 18:\n",
        "  print('you are elligible to wote') #first block\n",
        "  print('Please proceed to the voting booth')\n",
        "else:\n",
        "  print('You arent old enouhg to vote')\n",
        "print('Thank you for participating!')"
      ],
      "metadata": {
        "colab": {
          "base_uri": "https://localhost:8080/"
        },
        "id": "JSEbKBIdV-AM",
        "outputId": "dcb3baa1-1f4f-4501-df04-e4d83ca70d6e"
      },
      "execution_count": null,
      "outputs": [
        {
          "output_type": "stream",
          "name": "stdout",
          "text": [
            "How olt are you?: 12\n",
            "You arent old enouhg to vote\n",
            "Thank you for participating!\n"
          ]
        }
      ]
    },
    {
      "cell_type": "code",
      "source": [
        "#modulus operator '%'\n",
        "number = int(input('Enter a number: '))\n",
        "\n",
        "#check if the number is even or odd\n",
        "if number % 2 == 0: #modulus operations\n",
        "  print(f'The number {number} is even!')\n",
        "else:\n",
        "  print(f'The number {number} is odd!')\n"
      ],
      "metadata": {
        "colab": {
          "base_uri": "https://localhost:8080/"
        },
        "id": "a36ZGWxkXOAU",
        "outputId": "b1c9e436-0258-49c9-bded-b3130dd56193"
      },
      "execution_count": null,
      "outputs": [
        {
          "output_type": "stream",
          "name": "stdout",
          "text": [
            "Enter a number: 11\n",
            "The number 11 is odd!\n"
          ]
        }
      ]
    },
    {
      "cell_type": "markdown",
      "source": [
        "Payment approval"
      ],
      "metadata": {
        "id": "MjTlJf1VZTGh"
      }
    },
    {
      "cell_type": "code",
      "source": [
        "#if the transaction can be done based on the account balance\n",
        "account_balance = float(input('Enter your account balance: '))\n",
        "transaction_amount = float(input('Enter the transaction amount: '))\n",
        "\n",
        "if account_balance <= transaction_amount:\n",
        "  print('Payment approver!')\n",
        "else:\n",
        "  print('Transaction can not be done.')"
      ],
      "metadata": {
        "colab": {
          "base_uri": "https://localhost:8080/"
        },
        "id": "TaZLofX1ZXL4",
        "outputId": "815a8db2-fadc-42e3-bb5b-4249d0d66640"
      },
      "execution_count": null,
      "outputs": [
        {
          "output_type": "stream",
          "name": "stdout",
          "text": [
            "Enter your account balance: 300\n",
            "Enter the transaction amount: 300\n",
            "Payment approver!\n"
          ]
        }
      ]
    },
    {
      "cell_type": "code",
      "source": [
        "#username\n",
        "#password\n",
        "\n",
        "STORED_USERNAME = 'user123'\n",
        "STORED_PASSWORD = 'pass123'\n",
        "\n",
        "username = input('Enter username: ')\n",
        "password = input('Enter password: ')\n",
        "\n",
        "#and or\n",
        "if username == STORED_USERNAME and password == STORED_PASSWORD:\n",
        "  print('You have logged in')\n",
        "\n",
        "else:\n",
        "  print('Wrong password/ username')"
      ],
      "metadata": {
        "colab": {
          "base_uri": "https://localhost:8080/"
        },
        "id": "qY9rjHK1eajb",
        "outputId": "3472e59f-80b7-436f-ec9d-6745b92ccfca"
      },
      "execution_count": null,
      "outputs": [
        {
          "output_type": "stream",
          "name": "stdout",
          "text": [
            "Enter username: user123\n",
            "Enter password: pass123\n",
            "You have logged in\n"
          ]
        }
      ]
    },
    {
      "cell_type": "code",
      "source": [
        "if\n",
        "elif #else if\n",
        "else"
      ],
      "metadata": {
        "id": "FDZF29VXhG-b"
      },
      "execution_count": null,
      "outputs": []
    },
    {
      "cell_type": "markdown",
      "source": [
        "#MULTIWAY decisions"
      ],
      "metadata": {
        "id": "ie6_FhmohVa0"
      }
    },
    {
      "cell_type": "code",
      "source": [
        "x = 10\n",
        "if x < 5:\n",
        "  print('Small')\n",
        "elif x <15:\n",
        "  print('Medium')\n",
        "else:\n",
        "  print('Large')\n",
        "print('All done')"
      ],
      "metadata": {
        "colab": {
          "base_uri": "https://localhost:8080/"
        },
        "id": "gEaU5jEPhcX1",
        "outputId": "66c8bb2f-271c-4e4d-c7c6-308fa4b66cad"
      },
      "execution_count": null,
      "outputs": [
        {
          "output_type": "stream",
          "name": "stdout",
          "text": [
            "Medium\n",
            "All done\n"
          ]
        }
      ]
    },
    {
      "cell_type": "markdown",
      "source": [
        "# Grading task\n"
      ],
      "metadata": {
        "id": "YqOPXZpLiBgl"
      }
    },
    {
      "cell_type": "code",
      "source": [
        "# Drading in scale 100, convert 100 to ABCDEF\n",
        "\n",
        "score = int(input('Enter your score: '))\n",
        "\n",
        "if score >= 90:\n",
        "  print('Your grade is A!')\n",
        "elif score >=80:\n",
        "  print('Your grade is B!')\n",
        "elif score >=70:\n",
        "  print('Your grade is C!')\n",
        "elif score >=60:\n",
        "  print('Your grade is D!')\n",
        "elif score >=50 and score <60:\n",
        "  print('Your grade is between 50 and 60')\n",
        "else:\n",
        "  print('Your grade is F!')\n"
      ],
      "metadata": {
        "colab": {
          "base_uri": "https://localhost:8080/"
        },
        "id": "1Rh2hIe3iGLf",
        "outputId": "9979d8d8-c5cd-4824-d8c0-fbd0a7e544f6"
      },
      "execution_count": null,
      "outputs": [
        {
          "output_type": "stream",
          "name": "stdout",
          "text": [
            "Enter your score: 55\n",
            "Your grade is between 50 and 60\n"
          ]
        }
      ]
    },
    {
      "cell_type": "code",
      "source": [
        "# Drading in scale 100 + using excemption\n",
        "try:\n",
        "  score = int(input('Enter your score: '))\n",
        "\n",
        "  if score >= 90:\n",
        "    print('Your grade is A!')\n",
        "  elif score >=80:\n",
        "    print('Your grade is B!')\n",
        "  elif score >=70:\n",
        "    print('Your grade is C!')\n",
        "  elif score >=60:\n",
        "    print('Your grade is D!')\n",
        "  elif score >=50 and score <60:\n",
        "    print('Your grade is between 50 and 60')\n",
        "  else:\n",
        "    print('Your grade is F!')\n",
        "except Exception as e:\n",
        "    print(f'Wrong input, exseption {e}')"
      ],
      "metadata": {
        "id": "YycblrWEl7MB"
      },
      "execution_count": null,
      "outputs": []
    },
    {
      "cell_type": "code",
      "source": [
        "#example of using excemption\n",
        "try:\n",
        "  Taccount_balance = float(input('Enter your account balance: '))\n",
        "  transaction_amount = float(input('Enter the transaction amount: '))\n",
        "\n",
        "  if account_balance <= transaction_amount:\n",
        "    print('Payment approver!')\n",
        "  else:\n",
        "    print('Transaction can not be done.')\n",
        "\n",
        "except Exception as m: #exception as {any letter} - explane to the user what kind of mistake\n",
        "    print(f'Wrong input, exseption: {m}')"
      ],
      "metadata": {
        "colab": {
          "base_uri": "https://localhost:8080/"
        },
        "id": "FfNwmBZ3m0b2",
        "outputId": "04a49460-1586-4434-8d8f-9dd9fe1ff443"
      },
      "execution_count": null,
      "outputs": [
        {
          "output_type": "stream",
          "name": "stdout",
          "text": [
            "Enter your account balance: 44\n",
            "Enter the transaction amount: h\n",
            "Wrong input, exseption: could not convert string to float: 'h'\n"
          ]
        }
      ]
    },
    {
      "cell_type": "code",
      "source": [
        "#Create a Python program for temperature conversion between Celsius and Fahrenheit scales.\n",
        "#The program should prompt users to select the direction of conversion, accept input for the temperature value,\n",
        "#and accurately perform the conversion (use IF and/or ELSE).\n",
        "#Output should be displayed with formatted strings showing both the original and converted temperatures.\n",
        "\n",
        "try:\n",
        "  print(\"Temperature Conversion Program\")\n",
        "  print(\"1. Celsius to Fahrenheit\")\n",
        "  print(\"2. Fahrenheit to Celsius\")\n",
        "  choice = int(input(\"Enter your choice (1 or 2): \"))\n",
        "  if choice == 1:\n",
        "    celsius = float(input(\"Enter the temperature in Celsius: \"))\n",
        "    fahrenheit = (celsius * 9/5) + 32\n",
        "    print(f\"{celsius} degrees Celsius is equal to {fahrenheit:.2f} degrees Fahrenheit.\")\n",
        "  elif choice == 2:\n",
        "    fahrenheit = float(input(\"Enter the temperature in Fahrenheit: \"))\n",
        "    celsius = (fahrenheit - 32) * 5/9\n",
        "    print(f\"{fahrenheit} degrees Fahrenheit is equal to {celsius:.2f} degrees Celsius.\")\n",
        "  else:\n",
        "    print(\"Invalid choice. Please enter 1 or 2.\")\n",
        "except Exception as m:\n",
        "  print(f'Wrong input, exseption: {m}')"
      ],
      "metadata": {
        "colab": {
          "base_uri": "https://localhost:8080/"
        },
        "id": "2OHhAlpAqZLv",
        "outputId": "86a93352-4eb6-492b-c367-9ae4740ebe60"
      },
      "execution_count": null,
      "outputs": [
        {
          "output_type": "stream",
          "name": "stdout",
          "text": [
            "Temperature Conversion Program\n",
            "1. Celsius to Fahrenheit\n",
            "2. Fahrenheit to Celsius\n",
            "Enter your choice (1 or 2): 2\n",
            "Enter the temperature in Fahrenheit: 55\n",
            "55.0 degrees Fahrenheit is equal to 12.78 degrees Celsius.\n"
          ]
        }
      ]
    },
    {
      "cell_type": "markdown",
      "source": [],
      "metadata": {
        "id": "Y_Y2x-MsaLuV"
      }
    }
  ]
}