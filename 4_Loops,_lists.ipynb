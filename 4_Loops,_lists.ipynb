{
  "nbformat": 4,
  "nbformat_minor": 0,
  "metadata": {
    "colab": {
      "provenance": []
    },
    "kernelspec": {
      "name": "python3",
      "display_name": "Python 3"
    },
    "language_info": {
      "name": "python"
    }
  },
  "cells": [
    {
      "cell_type": "code",
      "execution_count": null,
      "metadata": {
        "colab": {
          "base_uri": "https://localhost:8080/"
        },
        "id": "1OejTrqDRsRi",
        "outputId": "560e598b-82f5-4825-cb30-89de849ea1df"
      },
      "outputs": [
        {
          "output_type": "stream",
          "name": "stdout",
          "text": [
            "Write the first number: 100\n",
            "Write the second number: 200\n",
            "100 is smaller than 200\n"
          ]
        }
      ],
      "source": [
        "# nested\n",
        "# compare 2 numbers\n",
        "# Because in the first if sentence we say num1 is bigger or equal to num2,\n",
        "# we can't use else if to check out if the num1 is actually bigger or equal to num2\n",
        "\n",
        "num1 = int(input('Write the first number: '))\n",
        "num2 = int(input('Write the second number: '))\n",
        "\n",
        "if num1 >= num2:\n",
        "  if num1 == num2: #ndentations are very important, only they shows that\n",
        "    print(f'{num1} is equal to {num2}')\n",
        "  else:\n",
        "      print(f'{num1} is greater than {num2}')\n",
        "else:\n",
        "  print(f'{num1} is smaller than {num2}')\n"
      ]
    },
    {
      "cell_type": "code",
      "source": [
        "# Try, Exept and Else\n",
        "# PUT THIS IN WHILE LOOP\n",
        "\n",
        "stock = input('Stock: ')\n",
        "\n",
        "try:\n",
        "  product_stock = int(stock)\n",
        "except:\n",
        "  print('Wrong input!')\n",
        "else:\n",
        "  if product_stock > 10: # to this part we add TAB - to show than this is a paft of TRY code\n",
        "    print('Stock level sufficient')\n",
        "  else:\n",
        "    print('Low stock!')"
      ],
      "metadata": {
        "colab": {
          "base_uri": "https://localhost:8080/"
        },
        "id": "TEtGfEIxVazR",
        "outputId": "b8efd45e-2016-4c7e-ee38-92baeb502bfe"
      },
      "execution_count": null,
      "outputs": [
        {
          "output_type": "stream",
          "name": "stdout",
          "text": [
            "Stock: ttt\n",
            "Wrong input!\n"
          ]
        }
      ]
    },
    {
      "cell_type": "markdown",
      "source": [
        "TASK\n",
        "Prompt the user to enter their name, the speed limit (in km/h), and their actual speed (in km/h).\n",
        "Calculate the difference between the actual speed and the speed limit, and then calculate the fine based on the difference (3 euros per km/h over the limit).\n",
        "Handle potential non-integer inputs for speed limit and actual speed using a try block.\n",
        "If non-integer inputs are detected, set the speed limit to -1 to indicate wrong speed values.\n",
        "If the speed limit is -1, print \"Wrong speed values entered. Please enter km/h.\"\n",
        "If the actual speed does not exceed the speed limit, print \"Speed limit is not exceeded. No fine applied.\"\n",
        "If the actual speed exceeds the speed limit, check if the fine is less than or equal to 190 euros. If so, print \"{name}, your fine for speeding is {fine} euros.\" - Otherwise, print \"{name}, your fine for speeding is 190 euros.\"\n"
      ],
      "metadata": {
        "id": "0eY2KEEiYuh4"
      }
    },
    {
      "cell_type": "code",
      "source": [
        "print('SPEEDING FINE CALCULATOR')\n",
        "\n",
        "name = input('Please write your name: ')\n",
        "speed_limit = input('Please input the speed limit: ')\n",
        "actual_speed = input('Please input your actual speed: ')\n",
        "\n",
        "try:\n",
        "  speed_limit = int(speed_limit)\n",
        "  actual_speed = int(actual_speed)\n",
        "except:\n",
        "  print(\"Wrong speed values entered. Please enter km/h.\")\n",
        "else:\n",
        "  difference = actual_speed - speed_limit\n",
        "  fine = difference * 3\n",
        "  if speed_limit < 0 or actual_speed < 0:\n",
        "    print('Speed limit MUST be positive')\n",
        "  elif speed_limit >= actual_speed: #difference < 0\n",
        "    print(\"Speed limit is not exceeded. No fine applied.\")\n",
        "  else:\n",
        "    if fine > 190:\n",
        "      print(f\"{name}, your fine for speeding is 190 euros.\")\n",
        "    else:\n",
        "      print(f\"{name}, your fine for speeding is {fine} euros.\")\n"
      ],
      "metadata": {
        "colab": {
          "base_uri": "https://localhost:8080/"
        },
        "id": "FqPntqnPY2Yr",
        "outputId": "e779d880-2bee-414b-ef5f-c1ed6ee5a166"
      },
      "execution_count": null,
      "outputs": [
        {
          "output_type": "stream",
          "name": "stdout",
          "text": [
            "SPEEDING FINE CALCULATOR\n",
            "Please write your name: 777\n",
            "Please input the speed limit: 777\n",
            "Please input your actual speed: 888\n",
            "777, your fine for speeding is 190 euros.\n"
          ]
        }
      ]
    },
    {
      "cell_type": "markdown",
      "source": [
        "Python LISTS\n"
      ],
      "metadata": {
        "id": "8XcGUSDrijGI"
      }
    },
    {
      "cell_type": "code",
      "source": [
        "flowers = \"pink primrose,hard-leaved pocket orchid,canterbury bells,sweet pea,english marigold,tiger lily,moon orchid,bird of paradise,monkshood,globe thistle\"\n",
        "print(type(flowers))\n"
      ],
      "metadata": {
        "colab": {
          "base_uri": "https://localhost:8080/"
        },
        "id": "EIAylxAUil-T",
        "outputId": "272fcd30-790f-43bd-df77-22570e2aed9c"
      },
      "execution_count": null,
      "outputs": [
        {
          "output_type": "stream",
          "name": "stdout",
          "text": [
            "<class 'str'>\n"
          ]
        }
      ]
    },
    {
      "cell_type": "code",
      "source": [
        "flowers = [\"pink primrose\", \"hard-leaved pocket orchid\", \"canterbury bells\", \"sweet pea\", \"english marigold\", \"tiger lily\", \"moon orchid\", \"bird of paradise\", \"monkshood\", \"globe thistle\"]\n",
        "print(type(flowers))\n"
      ],
      "metadata": {
        "colab": {
          "base_uri": "https://localhost:8080/"
        },
        "id": "8iaSUCuNjOlL",
        "outputId": "66cf8204-7c66-4490-af03-c22d2a62f015"
      },
      "execution_count": null,
      "outputs": [
        {
          "output_type": "stream",
          "name": "stdout",
          "text": [
            "<class 'list'>\n"
          ]
        }
      ]
    },
    {
      "cell_type": "code",
      "source": [
        "#How many items in a list\n",
        "print(len(flowers))"
      ],
      "metadata": {
        "colab": {
          "base_uri": "https://localhost:8080/"
        },
        "id": "DKS7M6s9kRK4",
        "outputId": "26588f95-44db-4c5e-966c-9b5010d6f8f6"
      },
      "execution_count": null,
      "outputs": [
        {
          "output_type": "stream",
          "name": "stdout",
          "text": [
            "10\n"
          ]
        }
      ]
    },
    {
      "cell_type": "code",
      "source": [
        "\n",
        "print('First entry: ', flowers[0])\n",
        "print(flowers[1])\n",
        "print(\"Last entry is: \", flowers[-1])\n",
        "\n"
      ],
      "metadata": {
        "colab": {
          "base_uri": "https://localhost:8080/"
        },
        "id": "Ei52F4QTlQPb",
        "outputId": "15ac18fd-556c-4fe6-d3df-53772f2e3534"
      },
      "execution_count": null,
      "outputs": [
        {
          "output_type": "stream",
          "name": "stdout",
          "text": [
            "First entry:  pink primrose\n",
            "hard-leaved pocket orchid\n",
            "Last entry is:  globe thistle\n"
          ]
        }
      ]
    },
    {
      "cell_type": "code",
      "source": [
        "\n",
        "print(flowers[1:5]) #print from 2 to 5\n",
        "\n",
        "print(flowers[:5]) #prints from 0 to 5\n",
        "\n",
        "print(\"Every other item: \", flowers[::2]) # every second item"
      ],
      "metadata": {
        "colab": {
          "base_uri": "https://localhost:8080/"
        },
        "id": "Xc5-DaFqmY71",
        "outputId": "42934512-6b0f-457e-98d0-77858475cc50"
      },
      "execution_count": null,
      "outputs": [
        {
          "output_type": "stream",
          "name": "stdout",
          "text": [
            "['hard-leaved pocket orchid', 'canterbury bells', 'sweet pea', 'english marigold']\n",
            "['pink primrose', 'hard-leaved pocket orchid', 'canterbury bells', 'sweet pea', 'english marigold']\n",
            "Every other item:  ['pink primrose', 'canterbury bells', 'english marigold', 'moon orchid', 'monkshood']\n"
          ]
        }
      ]
    },
    {
      "cell_type": "code",
      "source": [
        "for item in flowers[::2]:\n",
        "  print(item)"
      ],
      "metadata": {
        "colab": {
          "base_uri": "https://localhost:8080/"
        },
        "id": "JbpV_-QpndAq",
        "outputId": "89527ffd-1219-4216-889a-7f7769035c84"
      },
      "execution_count": null,
      "outputs": [
        {
          "output_type": "stream",
          "name": "stdout",
          "text": [
            "pink primrose\n",
            "canterbury bells\n",
            "english marigold\n",
            "moon orchid\n",
            "monkshood\n"
          ]
        }
      ]
    },
    {
      "cell_type": "code",
      "source": [
        "my_list = ['one', 'two', 'three', 4, 5]\n",
        "print(my_list[-2]) #get '4'from the list\n",
        "print(my_list[3])#also get '4'from the list"
      ],
      "metadata": {
        "colab": {
          "base_uri": "https://localhost:8080/"
        },
        "id": "ASy5T2nuoS0h",
        "outputId": "e4c16ef7-7f59-4cf3-c1bb-6e2e036e33e9"
      },
      "execution_count": null,
      "outputs": [
        {
          "output_type": "stream",
          "name": "stdout",
          "text": [
            "4\n",
            "4\n"
          ]
        }
      ]
    },
    {
      "cell_type": "code",
      "source": [
        "my_list = my_list + ['new item'] #adding new item"
      ],
      "metadata": {
        "id": "yTXhS4tWo_9D"
      },
      "execution_count": null,
      "outputs": []
    },
    {
      "cell_type": "code",
      "source": [
        "my_list"
      ],
      "metadata": {
        "id": "nEXoV43epfW5",
        "outputId": "e9afb2df-e92a-4660-c5fd-0a56f6c0405b",
        "colab": {
          "base_uri": "https://localhost:8080/"
        }
      },
      "execution_count": null,
      "outputs": [
        {
          "output_type": "execute_result",
          "data": {
            "text/plain": [
              "['one', 2, 'three', 4, 5, 'new item']"
            ]
          },
          "metadata": {},
          "execution_count": 36
        }
      ]
    },
    {
      "cell_type": "code",
      "source": [
        "my_list[1] = 2"
      ],
      "metadata": {
        "id": "uWMbcX_9p9g5"
      },
      "execution_count": null,
      "outputs": []
    },
    {
      "cell_type": "code",
      "source": [
        "my_list"
      ],
      "metadata": {
        "id": "YsBcxIVHqBbd",
        "outputId": "5ee11636-2334-49c0-ac1b-5a305969728c",
        "colab": {
          "base_uri": "https://localhost:8080/"
        }
      },
      "execution_count": null,
      "outputs": [
        {
          "output_type": "execute_result",
          "data": {
            "text/plain": [
              "['one', 2, 'three', 4, 5, 'new item']"
            ]
          },
          "metadata": {},
          "execution_count": 38
        }
      ]
    },
    {
      "cell_type": "code",
      "source": [
        "my_list.append('append me') #add element at the end of the list"
      ],
      "metadata": {
        "id": "9KDR-ajPqfIL"
      },
      "execution_count": null,
      "outputs": []
    },
    {
      "cell_type": "code",
      "source": [
        "my_list.pop(3)# removes the element"
      ],
      "metadata": {
        "colab": {
          "base_uri": "https://localhost:8080/"
        },
        "id": "00h6PCDHqmas",
        "outputId": "24b3df53-30a0-4b0a-8a4c-d96d4222c112"
      },
      "execution_count": null,
      "outputs": [
        {
          "output_type": "execute_result",
          "data": {
            "text/plain": [
              "5"
            ]
          },
          "metadata": {},
          "execution_count": 42
        }
      ]
    },
    {
      "cell_type": "code",
      "source": [
        "my_list"
      ],
      "metadata": {
        "colab": {
          "base_uri": "https://localhost:8080/"
        },
        "id": "oPnWqpgDrP21",
        "outputId": "054074a2-3732-49ba-9830-34cd6a21d222"
      },
      "execution_count": null,
      "outputs": [
        {
          "output_type": "execute_result",
          "data": {
            "text/plain": [
              "['one', 2, 'three', 'new item', 'append me']"
            ]
          },
          "metadata": {},
          "execution_count": 43
        }
      ]
    },
    {
      "cell_type": "code",
      "source": [
        "team_work_list = [10, 20, 30, 40, 50, 60, 70, 80] #1.Define a list of numbers [10, 20, 30, 40, 50].\n",
        "print(type(team_work_list))\n",
        "\n",
        "print(\"Length of the list: \", len(team_work_list)) #2.Print the length of the list\n",
        "\n",
        "print(\"First element of the list is: \", team_work_list[0]) #3.Print the first element of the list\n",
        "\n",
        "print(\"Last element of the list is: \", team_work_list[-1])  #4.Print the last element of the list\n",
        "\n",
        "# Function to ask the user for choice A or B\n",
        "def ask_choice(prompt):\n",
        "    while True:\n",
        "        choice = input(prompt).upper()\n",
        "        if choice in ['Y', 'N']:\n",
        "            return choice\n",
        "        else:\n",
        "            print(\"Invalid choice. Please enter 'Y' or 'N'.\")\n",
        "\n",
        "#5.Append a new number to the list, ensuring it's not already in the list\n",
        "while True:\n",
        "    new_number = int(input(\"Enter a new number to append to the list: \"))\n",
        "    if new_number not in team_work_list:\n",
        "        team_work_list.append(new_number)\n",
        "        print(\"Updated list is:\", team_work_list)\n",
        "        if ask_choice(\"Do you want to add one more number to the list? (Y) Yes / (N) No: \") == 'N':\n",
        "            break\n",
        "    else:\n",
        "        print(\"The number is already in the list. Please enter a different number.\")\n",
        "\n",
        "#7.Remove the ANY element from the list, ensuring it's in the list\n",
        "while True:\n",
        "    specific_number = int(input(\"Enter the element you want to delete from the list: \"))\n",
        "    if specific_number in team_work_list:\n",
        "        team_work_list.remove(specific_number)\n",
        "        print(\"The list after removal \", specific_number, \":\", team_work_list) # 8.Print the list after removal\n",
        "        if ask_choice(\"Do you want to delete one more number from the list? (Y) Yes / (N) No: \") == 'N':\n",
        "            break\n",
        "    else:\n",
        "        print(\"The element you entered is not in the list. Please enter a different number.\")\n",
        "\n",
        "#9.Check if a specific number (provided by the user) exists in the list and print the result\n",
        "number_to_check = int(input(\"Enter a number to check if it exists in the list: \"))\n",
        "if number_to_check in team_work_list:\n",
        "    print(f\"{number_to_check} exists in the list.\")\n",
        "else:\n",
        "    print(f\"{number_to_check} does not exist in the list.\")\n"
      ],
      "metadata": {
        "colab": {
          "base_uri": "https://localhost:8080/"
        },
        "id": "7Pct6w67KjxY",
        "outputId": "5e9eb9ba-8a51-4cda-ae62-81460e0d5875"
      },
      "execution_count": null,
      "outputs": [
        {
          "output_type": "stream",
          "name": "stdout",
          "text": [
            "<class 'list'>\n",
            "Length of the list:  8\n",
            "First element of the list is:  10\n",
            "Last element of the list is:  80\n",
            "Enter a new number to append to the list: 44\n",
            "Updated list is: [10, 20, 30, 40, 50, 60, 70, 80, 44]\n",
            "Do you want to add one more number to the list? (Y) Yes / (N) No: y\n",
            "Enter a new number to append to the list: 99\n",
            "Updated list is: [10, 20, 30, 40, 50, 60, 70, 80, 44, 99]\n",
            "Do you want to add one more number to the list? (Y) Yes / (N) No: n\n",
            "Enter the element you want to delete from the list: 77\n",
            "The element you entered is not in the list. Please enter a different number.\n",
            "Enter the element you want to delete from the list: 79\n",
            "The element you entered is not in the list. Please enter a different number.\n",
            "Enter the element you want to delete from the list: 10\n",
            "The list after removal  10 : [20, 30, 40, 50, 60, 70, 80, 44, 99]\n",
            "Do you want to delete one more number from the list? (Y) Yes / (N) No: n\n",
            "Enter a number to check if it exists in the list: 50\n",
            "50 exists in the list.\n"
          ]
        }
      ]
    },
    {
      "cell_type": "markdown",
      "source": [
        "#List operations\n",
        "\n",
        "#1.Define a list of numbers [10, 20, 30, 40, 50].\n",
        "#2.Print the length of the list.\n",
        "#3.Print the first element of the list.\n",
        "#4.Print the last element of the list.\n",
        "#5.Append a new number (e.g., 60) to the list.\n",
        "#6.Print the updated list.\n",
        "#7.Remove the second element from the list.\n",
        "#8.Print the list after removal.\n",
        "#9.Check if a specific number (e.g., 30) exists in the list and print the result."
      ],
      "metadata": {
        "id": "RcjRRfxDs_1D"
      }
    },
    {
      "cell_type": "code",
      "source": [
        "team_work_list = [10, 20, 30, 40, 50, 60, 70, 80]\n",
        "print(type(team_work_list))\n",
        "print(\"The length of the list: \", len(team_work_list)) #2.Print the length of the list\n",
        "print(\"First element of the list is: \", team_work_list[0]) #3.Print the first element of the list\n",
        "print(\"Last element of the list is: \", team_work_list[-1]) #4.Print the last element of the list\n",
        "team_work_list.append(90) #5.Append a new number (e.g., 90) to the list\n",
        "print(\"Updated list length is: \", team_work_list)\n",
        "team_work_list.pop(1) #7.Remove the second element from the list\n",
        "print(\"The list after removal is: \", team_work_list)# 8.Print the list after removal\n",
        "specific_number = int(input('Enter a number to check: ')) #9.Check if a specific number (e.g., 30) exists in the list and print the result\n",
        "if specific_number in team_work_list:\n",
        "  print(f\"'{specific_number}' is in the list.\")\n",
        "else:\n",
        "  print(f\"'{specific_number}' is absent.\")\n"
      ],
      "metadata": {
        "id": "mOhBXsOF9OXL"
      },
      "execution_count": null,
      "outputs": []
    },
    {
      "cell_type": "code",
      "source": [
        "team_work_list = [10, 20, 30, 40, 50, 60, 70, 80] #1.Define a list of numbers [10, 20, 30, 40, 50].\n",
        "print(type(team_work_list))\n",
        "\n",
        "print(\"Length of the list: \", len(team_work_list)) #2.Print the length of the list\n",
        "\n",
        "print(\"First element of the list is: \", team_work_list[0]) #3.Print the first element of the list\n",
        "\n",
        "print(\"Last element of the list is: \", team_work_list[-1])  #4.Print the last element of the list\n",
        "\n",
        "# Function to ask the user for choice A or B\n",
        "def ask_choice(prompt):\n",
        "    while True:\n",
        "        choice = input(prompt).upper()\n",
        "        if choice in ['Y', 'N']:\n",
        "            return choice\n",
        "        else:\n",
        "            print(\"Invalid choice. Please enter 'Y' or 'N'.\")\n",
        "\n",
        "#5.Append a new number to the list, ensuring it's not already in the list\n",
        "while True:\n",
        "    new_number = int(input(\"Enter a new number to append to the list: \"))\n",
        "    if new_number not in team_work_list:\n",
        "        team_work_list.append(new_number)\n",
        "        print(\"Updated list is:\", team_work_list)\n",
        "        if ask_choice(\"Do you want to add one more number to the list? (Y) Yes / (N) No: \") == 'N':\n",
        "            break\n",
        "    else:\n",
        "        print(\"The number is already in the list. Please enter a different number.\")\n",
        "\n",
        "#7.Remove the ANY element from the list, ensuring it's in the list\n",
        "while True:\n",
        "    specific_number = int(input(\"Enter the element you want to delete from the list: \"))\n",
        "    if specific_number in team_work_list:\n",
        "        team_work_list.remove(specific_number)\n",
        "        print(\"The list after removal \", specific_number, \":\", team_work_list) # 8.Print the list after removal\n",
        "        if ask_choice(\"Do you want to delete one more number from the list? (Y) Yes / (N) No: \") == 'N':\n",
        "            break\n",
        "    else:\n",
        "        print(\"The element you entered is not in the list. Please enter a different number.\")\n",
        "\n",
        "#9.Check if a specific number (provided by the user) exists in the list and print the result\n",
        "number_to_check = int(input(\"Enter a number to check if it exists in the list: \"))\n",
        "if number_to_check in team_work_list:\n",
        "    print(f\"{number_to_check} exists in the list.\")\n",
        "else:\n",
        "    print(f\"{number_to_check} does not exist in the list.\")"
      ],
      "metadata": {
        "id": "GkiS7Dlj9YzF"
      },
      "execution_count": null,
      "outputs": []
    }
  ]
}