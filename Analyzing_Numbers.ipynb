{
  "nbformat": 4,
  "nbformat_minor": 0,
  "metadata": {
    "colab": {
      "provenance": []
    },
    "kernelspec": {
      "name": "python3",
      "display_name": "Python 3"
    },
    "language_info": {
      "name": "python"
    }
  },
  "cells": [
    {
      "cell_type": "markdown",
      "source": [
        "Analyzing Numbers - Iterate through a list of 10 random numbers and determine whether each number is higher or lower than 5.\n",
        "Hints:\n",
        "Use a for loop to iterate through the list of numbers.\n",
        "Use if, elif, and else statements to check each number against 5.\n",
        "\n",
        "Example Output:\n",
        "3 is lower than 5\n",
        "8 is higher than 5\n",
        "1 is lower than 5\n",
        "6 is higher than 5 ......."
      ],
      "metadata": {
        "id": "Q7SNW-ut7igJ"
      }
    },
    {
      "cell_type": "code",
      "source": [
        "\n",
        "team_work_list = [1, 12, -30, 2, 50, 11, 73, 5, 8, -1]\n",
        "\n",
        "for i in team_work_list:\n",
        "  if i < 5:\n",
        "    print(f\"{i} is less than 5\")\n",
        "  elif i > 5:\n",
        "    print(f\"{i} is more than 5\")\n",
        "  else:\n",
        "    print(f\"{i} is equal to 5\")\n",
        "\n"
      ],
      "metadata": {
        "colab": {
          "base_uri": "https://localhost:8080/"
        },
        "id": "anbN7v0I7lGC",
        "outputId": "936dd8e3-93ad-43bb-d2bd-af13043ba33d"
      },
      "execution_count": null,
      "outputs": [
        {
          "output_type": "stream",
          "name": "stdout",
          "text": [
            "1 is less than 5\n",
            "12 is more than 5\n",
            "-30 is less than 5\n",
            "2 is less than 5\n",
            "50 is more than 5\n",
            "11 is more than 5\n",
            "73 is more than 5\n",
            "5 is equal to 5\n",
            "8 is more than 5\n",
            "-1 is less than 5\n"
          ]
        }
      ]
    }
  ]
}