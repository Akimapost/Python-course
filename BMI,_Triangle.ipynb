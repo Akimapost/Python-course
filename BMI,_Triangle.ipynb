{
  "cells": [
    {
      "cell_type": "markdown",
      "metadata": {
        "id": "e5u4X2IOqmjD"
      },
      "source": [
        "### Task 1 Calculate the Body Mass Index (BMI)"
      ]
    },
    {
      "cell_type": "markdown",
      "metadata": {
        "id": "pqYF-UdiqmjF"
      },
      "source": [
        "Description:\n",
        "Body Mass Index (BMI) is a measure of body fat based on height and weight. It is calculated by dividing a person's weight in kilograms by the square of their height in meters. The formula for BMI is:\n",
        "\n",
        "\\[BMI = \\frac{weight (kg)}{height (m)^2}\\]\n",
        "\n",
        "Write a Python program that prompts the user to enter their weight in kilograms and their height in meters, then calculates and displays their BMI.\n",
        "\n",
        "Example Output:\n",
        "```\n",
        "Enter your weight in kilograms: 70\n",
        "Enter your height in meters: 1.75\n",
        "Your BMI is: 22.86\n",
        "```\n",
        "\n",
        "Your task is to write Python code to achieve the above functionality."
      ]
    },
    {
      "cell_type": "code",
      "source": [
        "# Your code\n",
        "\n",
        "# Prompt the user to enter weight in kilograms\n",
        "weight_kg = float(input('Enter your weight in kilograms: '))\n",
        "\n",
        "# Prompt the user to enter height in meters\n",
        "height_m = float(input('Enter your height in meters: '))\n",
        "\n",
        "# Calculate BMI\n",
        "bmi = round(weight_kg / (height_m ** 2), 2)\n",
        "\n",
        "# Display the BMI\n",
        "print(f'Your BMI is: {bmi}')"
      ],
      "metadata": {
        "colab": {
          "base_uri": "https://localhost:8080/"
        },
        "id": "qX2nJd6Zv763",
        "outputId": "49313381-ca5a-4411-80bb-de181f561c32"
      },
      "execution_count": null,
      "outputs": [
        {
          "output_type": "stream",
          "name": "stdout",
          "text": [
            "Enter your weight in kilograms: 69\n",
            "Enter your height in meters: 1.75\n",
            "Your BMI is: 22.53\n"
          ]
        }
      ]
    },
    {
      "cell_type": "markdown",
      "metadata": {
        "id": "rUC-3xm6qmjJ"
      },
      "source": [
        "### Task 2: Calculate the Area of a Triangle"
      ]
    },
    {
      "cell_type": "code",
      "execution_count": null,
      "metadata": {
        "colab": {
          "base_uri": "https://localhost:8080/"
        },
        "id": "L4FRni6CqmjK",
        "outputId": "b18a02f1-d984-45cc-c714-a324701cab89"
      },
      "outputs": [
        {
          "output_type": "stream",
          "name": "stdout",
          "text": [
            "Enter the length of the base of the triangle (in miles): 22\n",
            "Enter the height of the triangle (in miles): 44\n",
            "Distance in Kilometers: 484.0\n"
          ]
        }
      ],
      "source": [
        "\n",
        "# Prompting the user to enter the distance in miles\n",
        "base = float(input('Enter the length of the base of the triangle (in miles): '))\n",
        "height = float(input('Enter the height of the triangle (in miles): '))\n",
        "\n",
        "# Converting miles to kilometers (1 mile = 1.60934 kilometers)\n",
        "kilometers = miles * 1.60934\n",
        "\n",
        "# Calculate the area of the triangle (Area = 0.5 * base * height)\n",
        "area = 0.5 * base * height\n",
        "\n",
        "# Displaying the result\n",
        "print(\"Distance in Kilometers:\", area)"
      ]
    },
    {
      "cell_type": "markdown",
      "metadata": {
        "id": "dk2mLBkoqmjL"
      },
      "source": []
    }
  ],
  "metadata": {
    "language_info": {
      "name": "python"
    },
    "colab": {
      "provenance": []
    },
    "kernelspec": {
      "name": "python3",
      "display_name": "Python 3"
    }
  },
  "nbformat": 4,
  "nbformat_minor": 0
}