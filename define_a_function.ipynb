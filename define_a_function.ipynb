{
  "nbformat": 4,
  "nbformat_minor": 0,
  "metadata": {
    "colab": {
      "provenance": []
    },
    "kernelspec": {
      "name": "python3",
      "display_name": "Python 3"
    },
    "language_info": {
      "name": "python"
    }
  },
  "cells": [
    {
      "cell_type": "code",
      "execution_count": null,
      "metadata": {
        "colab": {
          "base_uri": "https://localhost:8080/"
        },
        "collapsed": true,
        "id": "DUNVi4dolQmM",
        "outputId": "be982519-e59a-4779-8f9c-2bf85ddea75e"
      },
      "outputs": [
        {
          "output_type": "stream",
          "name": "stdout",
          "text": [
            "I have cleaned the smartphone with water 3 times.\n",
            "<class 'str'>\n",
            "<class 'str'>\n",
            "<class 'int'>\n",
            "I have cleaned the smartphone with ethanol five times.\n",
            "<class 'str'>\n",
            "<class 'str'>\n",
            "<class 'str'>\n"
          ]
        }
      ],
      "source": [
        "def cleaner(item: str, fluid: str, times: int): #define a function\n",
        "  print(f'I have cleaned the {item} with {fluid} {times} times.') #void function\n",
        "  print(type(item)) #check data type\n",
        "  print(type(fluid)) #check data type\n",
        "  print(type(times)) #check data type\n",
        "\n",
        "cleaner('smartphone', 'water', 3) #call the function\n",
        "cleaner('smartphone', 'ethanol', 'five') #call the function"
      ]
    },
    {
      "cell_type": "code",
      "source": [
        "def add_two_numbers(number_1, number_2):\n",
        "  return number_1 + number_2 #return function\n",
        "\n",
        "50 - add_two_numbers(4, 5)\n"
      ],
      "metadata": {
        "id": "pENJVQzerUAy",
        "colab": {
          "base_uri": "https://localhost:8080/"
        },
        "outputId": "3bf1799a-e256-4b89-ded2-e6e70366299f"
      },
      "execution_count": null,
      "outputs": [
        {
          "output_type": "execute_result",
          "data": {
            "text/plain": [
              "41"
            ]
          },
          "metadata": {},
          "execution_count": 10
        }
      ]
    },
    {
      "cell_type": "code",
      "source": [
        "#1. To make a data structure which will hold all instances/objects together\n",
        "#2. Print out object data using loops\n",
        "#3. Use methods for all objects using loops\n",
        "#4. Allow programmer to override the default sound of a cat\n",
        "\n",
        "class Cat:\n",
        "  def __init__(self, name, age, sound = 'Meow', favorite_food = ''):\n",
        "    self.name = name\n",
        "    self.age = age\n",
        "    self.sound = sound\n",
        "    self.favorite_food = favorite_food\n",
        "\n",
        "  def introduce(self):\n",
        "    print(f'Hi! My name is {self.name}, I am {self.age} years old. Nice to meet you!')\n",
        "\n",
        "  def voice(self):\n",
        "    print(f'{self.sound}!')\n",
        "\n",
        "  def eat(self, food):\n",
        "    print(f'{self.name} is eating {food}')\n",
        "\n",
        "cats = []\n",
        "cats.append(Cat('Coder', 3, favorite_food = 'Fish'))\n",
        "cats.append(Cat('Minka', 12, favorite_food = 'Chicken meat'))\n",
        "cats.append(Cat('Miisu', 5, favorite_food = 'Beef'))\n",
        "\n",
        "print('Cat introduction:')\n",
        "for cat in cats:\n",
        "    cat.introduce()\n",
        "\n",
        "print('\\nCat sounds:')\n",
        "for cat in cats:\n",
        "    cat.voice()\n",
        "\n",
        "cats[2].sound = 'Purrr'\n",
        "print('\\nOverritten Sound')\n",
        "for cat in cats:\n",
        "    cat.voice()\n",
        "\n",
        "print('\\nCat favorite food:')\n",
        "for cat in cats:\n",
        "    cat.eat(cat.favorite_food)\n"
      ],
      "metadata": {
        "colab": {
          "base_uri": "https://localhost:8080/"
        },
        "id": "2rvbykb3yEWB",
        "outputId": "39657f20-0ba5-49c5-e812-1c9ff69373ec"
      },
      "execution_count": null,
      "outputs": [
        {
          "output_type": "stream",
          "name": "stdout",
          "text": [
            "Cat introduction:\n",
            "Hi! My name is Coder, I am 3 years old. Nice to meet you!\n",
            "Hi! My name is Minka, I am 12 years old. Nice to meet you!\n",
            "Hi! My name is Miisu, I am 5 years old. Nice to meet you!\n",
            "\n",
            "Cat sounds:\n",
            "Meow!\n",
            "Meow!\n",
            "Meow!\n",
            "\n",
            "Overritten Sound\n",
            "Meow!\n",
            "Meow!\n",
            "Purrr!\n",
            "\n",
            "Cat favorite food:\n",
            "Coder is eating Fish\n",
            "Minka is eating Chicken meat\n",
            "Miisu is eating Beef\n"
          ]
        }
      ]
    }
  ]
}