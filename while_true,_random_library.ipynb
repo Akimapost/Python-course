{
  "nbformat": 4,
  "nbformat_minor": 0,
  "metadata": {
    "colab": {
      "provenance": []
    },
    "kernelspec": {
      "name": "python3",
      "display_name": "Python 3"
    },
    "language_info": {
      "name": "python"
    }
  },
  "cells": [
    {
      "cell_type": "code",
      "execution_count": null,
      "metadata": {
        "colab": {
          "base_uri": "https://localhost:8080/"
        },
        "id": "29SNdqOBd266",
        "outputId": "ea58d4f0-29da-445b-b716-1668173041b5"
      },
      "outputs": [
        {
          "output_type": "stream",
          "name": "stdout",
          "text": [
            "Name: Alice\n",
            "Name: Bob\n",
            "Name: Charlie\n",
            "Name: David\n",
            "Name: Eva\n"
          ]
        }
      ],
      "source": [
        "student_names = [\"Alice\", \"Bob\", \"Charlie\", \"David\", \"Eva\"]\n",
        "for name in student_names:\n",
        "  print(f'Name: {name}')"
      ]
    },
    {
      "cell_type": "code",
      "source": [
        "counter = 0 #initialize the var\n",
        "while True: # will run untill counter <10\n",
        "  counter = counter+1\n",
        "  print(counter)\n",
        "  if counter <10:\n",
        "    continue\n",
        "  else:\n",
        "    break\n"
      ],
      "metadata": {
        "colab": {
          "base_uri": "https://localhost:8080/"
        },
        "id": "3jh-WYWefF3P",
        "outputId": "4c6207dd-da58-46b3-d2d8-f938763103e5"
      },
      "execution_count": null,
      "outputs": [
        {
          "output_type": "stream",
          "name": "stdout",
          "text": [
            "1\n",
            "2\n",
            "3\n",
            "4\n",
            "5\n",
            "6\n",
            "7\n",
            "8\n",
            "9\n",
            "10\n"
          ]
        }
      ]
    },
    {
      "cell_type": "code",
      "source": [
        "counter = 0 #initialize the var\n",
        "while True: # will run untill we break\n",
        "  counter = counter + 1\n",
        "  print(counter)\n",
        "  break #we break out the while loop here"
      ],
      "metadata": {
        "colab": {
          "base_uri": "https://localhost:8080/"
        },
        "id": "DN_LnSTEg0Ay",
        "outputId": "16030b66-931c-4710-acd4-5dd7976fd414"
      },
      "execution_count": null,
      "outputs": [
        {
          "output_type": "stream",
          "name": "stdout",
          "text": [
            "1\n"
          ]
        }
      ]
    },
    {
      "cell_type": "markdown",
      "source": [
        "While loop exercise\n"
      ],
      "metadata": {
        "id": "gVDHhC7Xji6v"
      }
    },
    {
      "cell_type": "code",
      "source": [
        "# Initiate list\n",
        "cities_list = []\n",
        "counter = 0\n",
        "while True: #city != \"stop\"\n",
        "  city = input('What cities have you been to in LV or EE? T stop write \"stop\".')\n",
        "\n",
        "  if city == 'stop':\n",
        "    print('You have written \"stop\".') #run the code until user has written STOP\n",
        "    break\n",
        "  else:\n",
        "    counter = counter + 1\n",
        "    print(f'{counter}. I se you have to been to the {city}.') #counter could be replaced with {len(cities_list)}\n",
        "    cities_list.append(city)\n",
        "\n",
        "print(f'You have been to {len(cities_list)} cities')"
      ],
      "metadata": {
        "colab": {
          "base_uri": "https://localhost:8080/"
        },
        "collapsed": true,
        "id": "Uv2oNd5cjn-Q",
        "outputId": "a4a725e9-080c-48aa-83f3-5573a9e49c9b"
      },
      "execution_count": null,
      "outputs": [
        {
          "output_type": "stream",
          "name": "stdout",
          "text": [
            "What cities have you been to in LV or EE? T stop write \"stop\".Riga\n",
            "1 I se you have to been to the Riga.\n",
            "What cities have you been to in LV or EE? T stop write \"stop\".Jurmala\n",
            "2 I se you have to been to the Jurmala.\n",
            "What cities have you been to in LV or EE? T stop write \"stop\".Ogre\n",
            "3 I se you have to been to the Ogre.\n",
            "What cities have you been to in LV or EE? T stop write \"stop\".stop\n",
            "You have written \"stop\".\n",
            "You have been to 3 cities\n"
          ]
        }
      ]
    },
    {
      "cell_type": "code",
      "source": [
        "#importing librarys\n",
        "\n",
        "import random"
      ],
      "metadata": {
        "id": "GrWFZFH2rL0s"
      },
      "execution_count": null,
      "outputs": []
    },
    {
      "cell_type": "code",
      "source": [
        "random_number = random.randint(1, 101) #ramnom number between 1 and 101\n",
        "print(random_number)"
      ],
      "metadata": {
        "colab": {
          "base_uri": "https://localhost:8080/"
        },
        "id": "P7CIkTlZrTzr",
        "outputId": "0a9ceb65-b91c-408e-cf0e-1200efb695c1"
      },
      "execution_count": null,
      "outputs": [
        {
          "output_type": "stream",
          "name": "stdout",
          "text": [
            "28\n"
          ]
        }
      ]
    },
    {
      "cell_type": "code",
      "source": [
        "random_number = random.randint(1, 101) #ramnom number between 1 and 101\n",
        "print(random_number)\n",
        "\n",
        "guesses = [] #initialize the list for integers\n",
        "\n",
        "while True:\n",
        "  guess = input('Guess the number between 1 and 100, sto quite write \"stop\"!')\n",
        "\n",
        "  if guess == 'stop':\n",
        "    print('The game has been stopped.')\n",
        "    break\n",
        "  try:\n",
        "    guess = int(guess)\n",
        "  except:\n",
        "    print('Wrong input! Input an integer')\n",
        "    continue\n",
        "  guesses.append(guess) #append it to the list\n",
        "\n",
        "  if guess == random_number:\n",
        "    print('Congratulations. You have guessed the correct number.',len(guesses) )\n",
        "    break\n",
        "  else:\n",
        "    # WE ARE MAKING THE GAME EASIER\n",
        "    if guess > random_number:\n",
        "      print('Try lower!')\n",
        "    else:\n",
        "      print('Try higher!')\n",
        "\n",
        "print(f'You managed to guess the number in {len(guesses)} guesses')"
      ],
      "metadata": {
        "colab": {
          "base_uri": "https://localhost:8080/"
        },
        "collapsed": true,
        "id": "TszYP59MvISd",
        "outputId": "9a71f28d-6d14-4a66-f192-ab85b871696b"
      },
      "execution_count": null,
      "outputs": [
        {
          "output_type": "stream",
          "name": "stdout",
          "text": [
            "Guess the number between 1 and 100, sto quite write \"stop\"!09\n",
            "Try higher!\n",
            "Guess the number between 1 and 100, sto quite write \"stop\"!77\n",
            "Try lower!\n",
            "Guess the number between 1 and 100, sto quite write \"stop\"!60\n",
            "Try lower!\n",
            "Guess the number between 1 and 100, sto quite write \"stop\"!50\n",
            "Try lower!\n",
            "Guess the number between 1 and 100, sto quite write \"stop\"!40\n",
            "Try lower!\n",
            "Guess the number between 1 and 100, sto quite write \"stop\"!30\n",
            "Try lower!\n",
            "Guess the number between 1 and 100, sto quite write \"stop\"!20\n",
            "Try higher!\n",
            "Guess the number between 1 and 100, sto quite write \"stop\"!21\n",
            "Try higher!\n",
            "Guess the number between 1 and 100, sto quite write \"stop\"!22\n",
            "Try higher!\n",
            "Guess the number between 1 and 100, sto quite write \"stop\"!23\n",
            "Try higher!\n",
            "Guess the number between 1 and 100, sto quite write \"stop\"!24\n",
            "Try higher!\n",
            "Guess the number between 1 and 100, sto quite write \"stop\"!25\n",
            "Try higher!\n",
            "Guess the number between 1 and 100, sto quite write \"stop\"!26\n",
            "Try higher!\n",
            "Guess the number between 1 and 100, sto quite write \"stop\"!27\n",
            "Try higher!\n",
            "Guess the number between 1 and 100, sto quite write \"stop\"!28\n",
            "Congratulations. You have guessed the correct number. 15\n",
            "You managed to guess the number in 15 guesses\n"
          ]
        }
      ]
    },
    {
      "cell_type": "code",
      "source": [
        "import random\n",
        "\n",
        "print('Hello!')\n",
        "print('Lets play a game. Guess if it will be head or tails.')\n",
        "print('To quit write \"quit\"!')\n",
        "\n",
        "\n",
        "version = ['head', 'tails']\n",
        "correct_guesses = 0\n",
        "total_guesses = 0\n",
        "\n",
        "while True:\n",
        "  random_choice = random.choice(version)\n",
        "  guess = input('Guess: head or tails?   ')\n",
        "  if guess == 'quit':\n",
        "    print(f'You quit the game. You made {total_guesses} and {correct_guesses} were correct.')\n",
        "    break\n",
        "  else:\n",
        "    print(random_choice)\n",
        "    if guess == random_choice:\n",
        "      print('You guessed right!')\n",
        "      correct_guesses = correct_guesses + 1\n",
        "      total_guesses = total_guesses + 1\n",
        "    else:\n",
        "      print('You are wrong!')\n",
        "      total_guesses = total_guesses +1"
      ],
      "metadata": {
        "colab": {
          "base_uri": "https://localhost:8080/"
        },
        "collapsed": true,
        "id": "IFnKY4MA7irG",
        "outputId": "3ee3cc8b-16c1-4c95-f011-fb6c2408a005"
      },
      "execution_count": null,
      "outputs": [
        {
          "output_type": "stream",
          "name": "stdout",
          "text": [
            "Hello!\n",
            "Lets play a game. Guess if it will be head or tails.\n",
            "To quit write \"quit\"!\n",
            "Guess: head or tails?   head\n",
            "head\n",
            "You guessed right!\n",
            "Guess: head or tails?   tails\n",
            "tails\n",
            "You guessed right!\n",
            "Guess: head or tails?   head\n",
            "head\n",
            "You guessed right!\n",
            "Guess: head or tails?   head\n",
            "head\n",
            "You guessed right!\n",
            "Guess: head or tails?   tails\n",
            "head\n",
            "You are wrong!\n"
          ]
        }
      ]
    }
  ]
}