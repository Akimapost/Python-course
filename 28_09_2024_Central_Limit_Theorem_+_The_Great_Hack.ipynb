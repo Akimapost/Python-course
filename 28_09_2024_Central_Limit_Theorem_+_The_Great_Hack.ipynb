{
  "nbformat": 4,
  "nbformat_minor": 0,
  "metadata": {
    "colab": {
      "provenance": []
    },
    "kernelspec": {
      "name": "python3",
      "display_name": "Python 3"
    },
    "language_info": {
      "name": "python"
    }
  },
  "cells": [
    {
      "cell_type": "markdown",
      "source": [
        "* Look at what is Central Limit Theorem and try to prove/ visualize it using NumPy\n",
        "\n",
        "* Watch the movie The Great Hack (https://www.imdb.com/title/tt4736550/)  or read about Cambridge Analytica (https://www.nytimes.com/2018/04/04/us/politics/cambridge-analytica-scandal-fallout.html)"
      ],
      "metadata": {
        "id": "ivJwgWtZ9ugR"
      }
    },
    {
      "cell_type": "markdown",
      "source": [
        "The Central Limit Theorem (CLT) states that, regardless of the original distribution of the population, the distribution of the sample means approaches a normal distribution as the sample size increases, provided the sample size is sufficiently large.\n",
        "\n",
        "In simple terms:\n",
        "\n",
        "If you take a large enough sample size from any population and calculate the average (mean) of those samples, the distribution of these averages will form a bell-shaped curve (normal distribution), even if the original data is not normally distributed.\n",
        "This is a foundational concept in statistics and allows us to make inferences about population parameters using sample data.\n",
        "\n",
        "https://www.geeksforgeeks.org/python-central-limit-theorem/"
      ],
      "metadata": {
        "id": "8XH1AB9G9ckk"
      }
    },
    {
      "cell_type": "code",
      "execution_count": null,
      "metadata": {
        "id": "7RO0pLmm8dsQ"
      },
      "outputs": [],
      "source": [
        "import numpy as np\n",
        "import matplotlib.pyplot as plt\n"
      ]
    },
    {
      "cell_type": "code",
      "source": [
        "# Set random seed for reproducibility\n",
        "np.random.seed(42)"
      ],
      "metadata": {
        "id": "OemToTic8igk"
      },
      "execution_count": null,
      "outputs": []
    },
    {
      "cell_type": "code",
      "source": [
        "# Generate a non-normal distribution: uniform between 0 and 10\n",
        "population = np.random.uniform(0, 10, 10000)"
      ],
      "metadata": {
        "id": "B1cTWeq88n8m"
      },
      "execution_count": null,
      "outputs": []
    },
    {
      "cell_type": "code",
      "source": [
        "# Sample sizes for demonstration\n",
        "sample_sizes = [5, 10, 30, 50, 100]"
      ],
      "metadata": {
        "id": "2yj5Sh7l8q-n"
      },
      "execution_count": null,
      "outputs": []
    },
    {
      "cell_type": "code",
      "source": [
        "# Plot the sampling distributions of the means\n",
        "plt.figure(figsize=(10, 6))"
      ],
      "metadata": {
        "colab": {
          "base_uri": "https://localhost:8080/",
          "height": 51
        },
        "id": "BsYF1X0j8wAn",
        "outputId": "93132bdd-d9f4-4684-f1c6-dde64527d21b"
      },
      "execution_count": null,
      "outputs": [
        {
          "output_type": "execute_result",
          "data": {
            "text/plain": [
              "<Figure size 1000x600 with 0 Axes>"
            ]
          },
          "metadata": {},
          "execution_count": 10
        },
        {
          "output_type": "display_data",
          "data": {
            "text/plain": [
              "<Figure size 1000x600 with 0 Axes>"
            ]
          },
          "metadata": {}
        }
      ]
    },
    {
      "cell_type": "code",
      "source": [
        "for i, size in enumerate(sample_sizes):\n",
        "    # Generate sample means by taking multiple samples of size 'size' from the population\n",
        "    sample_means = [np.mean(np.random.choice(population, size=size)) for _ in range(1000)]"
      ],
      "metadata": {
        "id": "MsVisua08xRf"
      },
      "execution_count": null,
      "outputs": []
    },
    {
      "cell_type": "code",
      "source": [
        " # Plot the histogram of the sample means\n",
        "plt.subplot(2, 3, i + 1)\n",
        "plt.hist(sample_means, bins=20, color='c', edgecolor='black', alpha=0.7)\n",
        "plt.title(f'Sample Size = {size}')\n",
        "plt.xlabel('Sample Mean')\n",
        "plt.ylabel('Frequency')"
      ],
      "metadata": {
        "colab": {
          "base_uri": "https://localhost:8080/",
          "height": 287
        },
        "id": "LsBmG5ol82DA",
        "outputId": "efc8358b-1732-434b-c2c0-0f765bff1f1b"
      },
      "execution_count": null,
      "outputs": [
        {
          "output_type": "execute_result",
          "data": {
            "text/plain": [
              "Text(0, 0.5, 'Frequency')"
            ]
          },
          "metadata": {},
          "execution_count": 12
        },
        {
          "output_type": "display_data",
          "data": {
            "text/plain": [
              "<Figure size 640x480 with 1 Axes>"
            ],
            "image/png": "[encoded data removed]"
          },
          "metadata": {}
        }
      ]
    },
    {
      "cell_type": "markdown",
      "source": [],
      "metadata": {
        "id": "6rJWNVHc9bUp"
      }
    }
  ]
}