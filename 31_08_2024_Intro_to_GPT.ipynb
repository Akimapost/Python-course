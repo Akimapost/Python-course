{
  "nbformat": 4,
  "nbformat_minor": 0,
  "metadata": {
    "colab": {
      "provenance": []
    },
    "kernelspec": {
      "name": "python3",
      "display_name": "Python 3"
    },
    "language_info": {
      "name": "python"
    }
  },
  "cells": [
    {
      "cell_type": "markdown",
      "source": [],
      "metadata": {
        "id": "1PmJ55hKYPan"
      }
    },
    {
      "cell_type": "markdown",
      "source": [
        "#Intro to GPT\n",
        "###Intro to GenAI, models, people\n",
        "###RGB example, creating colors (red-green-blue) (https://www.csfieldguide.org.nz/en/interactives/rgb-mixer/)\n",
        "###Tokens and embedding vectors (https://www.csfieldguide.org.nz/en/interactives/rgb-mixer/)\n",
        "###Neural nets, simplified, types (https://www.geeksforgeeks.org/neural-networks-a-beginners-guide/)\n",
        "###Gradient and optimization\n",
        "###Encoder-Decoder models, FFN, RNN, LSTM, backpropagation\n",
        "###Self-Attention and Transformers\n",
        "###GPT revisited\n",
        "###Carbon footprint\n",
        "###Future prospects"
      ],
      "metadata": {
        "id": "PC8MEpRRSDth"
      }
    },
    {
      "cell_type": "markdown",
      "source": [],
      "metadata": {
        "id": "kOYIUhibsGsK"
      }
    },
    {
      "cell_type": "markdown",
      "source": [
        "Gemini\n",
        "\n",
        "Copilot\n",
        "\n",
        "open AI\n",
        "\n",
        "chatgpt\n",
        "\n",
        "blackbox ai\n",
        "\n",
        "Midjourney\n",
        "\n",
        "Lama\n",
        "\n",
        "perplexity\n",
        "\n",
        "Grok\n",
        "\n"
      ],
      "metadata": {
        "id": "Os_g2gRXWIcE"
      }
    }
  ]
}