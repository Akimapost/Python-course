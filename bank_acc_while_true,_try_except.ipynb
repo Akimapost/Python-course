{
  "nbformat": 4,
  "nbformat_minor": 0,
  "metadata": {
    "colab": {
      "provenance": []
    },
    "kernelspec": {
      "name": "python3",
      "display_name": "Python 3"
    },
    "language_info": {
      "name": "python"
    }
  },
  "cells": [
    {
      "cell_type": "code",
      "execution_count": null,
      "metadata": {
        "colab": {
          "base_uri": "https://localhost:8080/"
        },
        "id": "SFMgBIFd_z9J",
        "outputId": "2f57b59e-62de-440c-f324-10d9dc1345da"
      },
      "outputs": [
        {
          "output_type": "stream",
          "name": "stdout",
          "text": [
            "Welcome to your personal deposit account!\n",
            "What amount would you like to put on deposit? (to exit write \"stop\"): 600\n",
            "Your deposit account has been replenished. The total ammount on your account is 600.0.\n",
            "What amount would you like to put on deposit? (to exit write \"stop\"): 399.9\n",
            "Your deposit account has been replenished. The total ammount on your account is 999.9.\n",
            "What amount would you like to put on deposit? (to exit write \"stop\"): gg\n",
            "Wrong input! Enter an amount or \"stop\".\n",
            "What amount would you like to put on deposit? (to exit write \"stop\"): 10\n",
            "Your deposit account has been replenished. The total ammount on your account is 1009.9.\n",
            "What amount would you like to put on deposit? (to exit write \"stop\"): stop\n",
            "You have written \"stop\". The total amount on your account is 1009.9\n"
          ]
        }
      ],
      "source": [
        "account = 0.0\n",
        "print('Welcome to your personal deposit account!')\n",
        "\n",
        "while True:\n",
        "  amount = input('What amount would you like to put on deposit? (to exit write \"stop\"): ')\n",
        "  if amount == 'stop':\n",
        "    print(f'You have written \"stop\". The total amount on your account is {account}')\n",
        "    break\n",
        "  else:\n",
        "    try:\n",
        "      amount = float(amount)\n",
        "    except:\n",
        "      print('Wrong input! Enter an amount or \"stop\".')\n",
        "      continue\n",
        "  account = account + amount\n",
        "  print(f'Your deposit account has been replenished. The total ammount on your account is {account}.')"
      ]
    }
  ]
}