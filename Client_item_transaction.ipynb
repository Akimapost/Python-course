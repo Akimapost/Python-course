{
  "nbformat": 4,
  "nbformat_minor": 0,
  "metadata": {
    "colab": {
      "provenance": []
    },
    "kernelspec": {
      "name": "python3",
      "display_name": "Python 3"
    },
    "language_info": {
      "name": "python"
    }
  },
  "cells": [
    {
      "cell_type": "code",
      "execution_count": null,
      "metadata": {
        "colab": {
          "base_uri": "https://localhost:8080/"
        },
        "id": "rhpO7JAKVH3U",
        "outputId": "94a6967d-ac6e-4f49-e540-0d0f4278ee53"
      },
      "outputs": [
        {
          "output_type": "stream",
          "name": "stdout",
          "text": [
            "ID: 1000 Name: Anna\n",
            "Transactions:\n",
            "2024-06-15 11:25:48.958457\n",
            "Transaction ID: 1\n",
            "Items:\n",
            "Item ID: 111, Name: Apple, Price: $1.00\n",
            "Item ID: 222, Name: Banana, Price: $2.00\n",
            "Item ID: 333, Name: Orange, Price: $3.00\n",
            "2024-06-15 11:25:48.958539\n",
            "Transaction ID: 2\n",
            "Items:\n",
            "Item ID: 333, Name: Orange, Price: $3.00\n",
            "\n",
            "ID: 2000 Name: John\n",
            "Transactions:\n",
            "2024-06-15 11:25:48.958591\n",
            "Transaction ID: 3\n",
            "Items:\n",
            "Item ID: 111, Name: Apple, Price: $1.00\n",
            "Item ID: 333, Name: Orange, Price: $3.00\n",
            "\n"
          ]
        }
      ],
      "source": [
        "import datetime\n",
        "class Client:\n",
        "    def __init__(self, client_id, name):\n",
        "        self.client_id = client_id\n",
        "        self.name = name\n",
        "        self.transactions = []\n",
        "\n",
        "    def add_transaction(self, transaction):\n",
        "        self.transactions.append(transaction)\n",
        "\n",
        "class Item:\n",
        "    def __init__(self, item_id, name, price):\n",
        "        self.item_id = item_id\n",
        "        self.name = name\n",
        "        self.price = price\n",
        "\n",
        "class Transaction:\n",
        "    def __init__(self, transaction_id, client, items):\n",
        "        self.transaction_id = transaction_id\n",
        "        self.client = client\n",
        "        self.items = items\n",
        "        self.time_stamp = datetime.datetime.now()\n",
        "\n",
        "client1 = Client(1000, \"Anna\")\n",
        "client2 = Client(2000, \"John\")\n",
        "\n",
        "item1 = Item(111, \"Apple\", 1.00)\n",
        "item2 = Item(222, \"Banana\", 2.00)\n",
        "item3 = Item(333, \"Orange\", 3.00)\n",
        "\n",
        "transaction1 = Transaction(1, client1, [item1, item2, item3])\n",
        "transaction2 = Transaction(2, client1, [item3])\n",
        "transaction3 = Transaction(3, client2, [item1, item3])\n",
        "\n",
        "client1.add_transaction(transaction1)\n",
        "client1.add_transaction(transaction2)\n",
        "client2.add_transaction(transaction3)\n",
        "\n",
        "clients = [client1, client2]\n",
        "for client in clients:\n",
        "    print(f'ID: {client.client_id} Name: {client.name}')\n",
        "    print(\"Transactions:\")\n",
        "    for transaction in client.transactions:\n",
        "        print(f\"{transaction.time_stamp}\")\n",
        "        print(f\"Transaction ID: {transaction.transaction_id}\")\n",
        "        print(\"Items:\")\n",
        "        for item in transaction.items:\n",
        "            print(f\"Item ID: {item.item_id}, Name: {item.name}, Price: ${item.price:.2f}\")\n",
        "    print()\n"
      ]
    }
  ]
}