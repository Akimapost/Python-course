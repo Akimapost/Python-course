{
  "nbformat": 4,
  "nbformat_minor": 0,
  "metadata": {
    "colab": {
      "provenance": []
    },
    "kernelspec": {
      "name": "python3",
      "display_name": "Python 3"
    },
    "language_info": {
      "name": "python"
    }
  },
  "cells": [
    {
      "cell_type": "code",
      "execution_count": null,
      "metadata": {
        "colab": {
          "base_uri": "https://localhost:8080/"
        },
        "id": "zd_p-dlJLEkM",
        "outputId": "759a4425-32ad-41af-f9f6-b535c1059e85"
      },
      "outputs": [
        {
          "output_type": "stream",
          "name": "stdout",
          "text": [
            "Good morning WoTech!\n",
            "14\n"
          ]
        }
      ],
      "source": [
        "#this is a comment\n",
        "#anonther comment\n",
        "this_is_a_variable = \"Good morning WoTech!\" #we assign a text value to this variable\n",
        "print (this_is_a_variable)\n",
        "\n",
        "#lets us now assing a number\n",
        "data = 14\n",
        "print (data)\n"
      ]
    },
    {
      "cell_type": "code",
      "source": [
        "name = \"Anna\" #text/string\n",
        "surname = \"Johnson\" #text/string\n",
        "age = 35 #integer\n",
        "occupation = \"Programmer\" #text/string\n",
        "university_graduate = False #boolean\n",
        "height = 172.23 #float\n",
        "\n",
        "print (name, surname, age, occupation, university_graduate, height)\n",
        "print(f\"Full name: {name} {surname}\\nOccupation: {occupation}\\nUni degree: {university_graduate}\")"
      ],
      "metadata": {
        "colab": {
          "base_uri": "https://localhost:8080/"
        },
        "id": "FSH_zEXFR0mE",
        "outputId": "0e41387d-25ab-4b18-8629-def7b26681bd"
      },
      "execution_count": null,
      "outputs": [
        {
          "output_type": "stream",
          "name": "stdout",
          "text": [
            "Anna Johnson 35 Programmer False 172.23\n",
            "Full name: Anna Johnson\n",
            "Occupation: Programmer\n",
            "Uni degree: False\n"
          ]
        }
      ]
    },
    {
      "cell_type": "code",
      "source": [
        "#we are preparing for a party\n",
        "guest1 = \"Anna\"\n",
        "guest2 = \"John\"\n",
        "guest3 = \"Jeniffer\"\n",
        "\n",
        "print (guest1, guest2, guest3)\n",
        "\n",
        "guests = [\"John\", \"Anna\", \"Jeniffer\"]\n",
        "print (guests)"
      ],
      "metadata": {
        "colab": {
          "base_uri": "https://localhost:8080/"
        },
        "id": "thPBhYXTWsFx",
        "outputId": "0e8aa197-a004-4d34-c730-64a7b131bea8"
      },
      "execution_count": null,
      "outputs": [
        {
          "output_type": "stream",
          "name": "stdout",
          "text": [
            "Anna John Jeniffer\n",
            "['John', 'Anna', 'Jeniffer']\n"
          ]
        }
      ]
    },
    {
      "cell_type": "code",
      "source": [
        "name = \"trees \"*10\n",
        "\n",
        "print (name, end = \"\")\n"
      ],
      "metadata": {
        "colab": {
          "base_uri": "https://localhost:8080/"
        },
        "id": "X3nBMypsafoI",
        "outputId": "2a156e7f-84a4-407e-beb0-65ab262ea4c8"
      },
      "execution_count": null,
      "outputs": [
        {
          "output_type": "stream",
          "name": "stdout",
          "text": [
            "trees trees trees trees trees trees trees trees trees trees "
          ]
        }
      ]
    },
    {
      "cell_type": "code",
      "source": [
        "name = input (\"Enter your name: \")\n",
        "\n",
        "print(f'Hello {name}, nice to meet you!') #f-string\n",
        "\n",
        "\n"
      ],
      "metadata": {
        "colab": {
          "base_uri": "https://localhost:8080/"
        },
        "id": "3g5CqiCGbcFL",
        "outputId": "55fc6702-266b-4631-ece4-3c015400b013"
      },
      "execution_count": null,
      "outputs": [
        {
          "output_type": "stream",
          "name": "stdout",
          "text": [
            "Enter your name: anna\n",
            "Hello anna, nice to meet you!\n"
          ]
        }
      ]
    },
    {
      "cell_type": "code",
      "source": [
        "name = input (\"Enter your name: \")\n",
        "print (f'Hello ', name, 'nice to meet you!') #not f-string"
      ],
      "metadata": {
        "colab": {
          "base_uri": "https://localhost:8080/"
        },
        "id": "tMFLHRROddtQ",
        "outputId": "3d9f4f1f-c5fe-4a16-bcbc-eb28a729fb5f"
      },
      "execution_count": null,
      "outputs": [
        {
          "output_type": "stream",
          "name": "stdout",
          "text": [
            "Enter your name: anna\n",
            "Hello  anna nice to meet you!\n"
          ]
        }
      ]
    },
    {
      "cell_type": "code",
      "source": [
        "name = input (\"Enter your name: \")\n",
        "print(f'Hello {name}, I would like to read the book, \"Hamlet\"') #f-string"
      ],
      "metadata": {
        "colab": {
          "base_uri": "https://localhost:8080/"
        },
        "id": "zcH-T5W7ePZE",
        "outputId": "c87c8efd-3e4e-43e1-a0ef-7e0e16e425a7"
      },
      "execution_count": null,
      "outputs": [
        {
          "output_type": "stream",
          "name": "stdout",
          "text": [
            "Hello anna, I would like to read the book, \"Hamlet\"\n"
          ]
        }
      ]
    },
    {
      "cell_type": "code",
      "source": [
        "name = 'Anna'\n",
        "surname = 'Johnsons'\n",
        "\n",
        "print ('Hello', name, '!')\n",
        "print (f'Hello {name}!') #without spase"
      ],
      "metadata": {
        "colab": {
          "base_uri": "https://localhost:8080/"
        },
        "id": "qEzlWEcqe4rS",
        "outputId": "a4ec694d-f390-4ffc-94e8-7a556ccd121f"
      },
      "execution_count": null,
      "outputs": [
        {
          "output_type": "stream",
          "name": "stdout",
          "text": [
            "Hello Anna !\n",
            "Hello Anna!\n"
          ]
        }
      ]
    },
    {
      "cell_type": "code",
      "source": [
        "name = 'Anna'\n",
        "surname = 'Johnsons'\n",
        "\n",
        "print ('Hello', name, '!')\n",
        "print (f' {name} wants to read \"Hamlet\".') #without spase and change Name in all the text"
      ],
      "metadata": {
        "colab": {
          "base_uri": "https://localhost:8080/"
        },
        "id": "Oftfib-ihL40",
        "outputId": "d16cd0c7-2736-423e-c812-8d68cbab25bc"
      },
      "execution_count": null,
      "outputs": [
        {
          "output_type": "stream",
          "name": "stdout",
          "text": [
            "Hello Anna !\n",
            " Anna wants to read \"Hamlet\".\n"
          ]
        }
      ]
    },
    {
      "cell_type": "code",
      "source": [
        "users_name = input (\"Enter your name: \")\n",
        "print(f'Hello, {users_name}!')\n",
        "\n",
        "acc_holders_name = 'Alice'\n",
        "surname = 'Smith'\n",
        "age = 25\n",
        "bank_account = 123456789\n",
        "print ('ACCOUNT HOLDER DISCRIPTION: ' '\\n' f'Account number: {bank_account}' '\\n' f'Holders name: {acc_holders_name} {surname}' '\\n' f'Age: {age}')\n",
        "#print (f'Account number: {bank_account}')\n",
        "\n",
        "married = False\n",
        "print (f\"Married: {married}\")\n",
        "\n",
        "place_of_birth = 'Riga, Latvia'\n",
        "print (f\"Place of birth: {place_of_birth}\")\n",
        "\n",
        "acc_opening_date = 2023\n",
        "month = 'october'\n",
        "salary = 1000.5\n",
        "salary_for_period = salary * 6\n",
        "print (f\"Date of activation: {month}, {acc_opening_date}\")\n",
        "print (f\"Salary (per month): {salary}\"'\\n'f\"Availalbe amount: {salary_for_period}\")\n"
      ],
      "metadata": {
        "colab": {
          "base_uri": "https://localhost:8080/"
        },
        "id": "MokEzG8NlNF_",
        "outputId": "81c035cd-4539-4c1d-a057-19480de12eb7"
      },
      "execution_count": null,
      "outputs": [
        {
          "output_type": "stream",
          "name": "stdout",
          "text": [
            "Enter your name: TTTTT\n",
            "Hello, TTTTT!\n",
            "ACCOUNT HOLDER DISCRIPTION: \n",
            "Account number: 123456789\n",
            "Holders name: Alice Smith\n",
            "Age: 25\n",
            "Married: False\n",
            "Place of birth: Riga, Latvia\n",
            "Date of activation: october, 2023\n",
            "Salary (per month): 1000.5\n",
            "Availalbe amount: 6003.0\n"
          ]
        }
      ]
    }
  ]
}