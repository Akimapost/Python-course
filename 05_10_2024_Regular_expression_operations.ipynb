{
  "nbformat": 4,
  "nbformat_minor": 0,
  "metadata": {
    "colab": {
      "provenance": []
    },
    "kernelspec": {
      "name": "python3",
      "display_name": "Python 3"
    },
    "language_info": {
      "name": "python"
    }
  },
  "cells": [
    {
      "cell_type": "markdown",
      "source": [
        "https://docs.python.org/3/library/re.html - documentary\n",
        "\n",
        "https://www.virustotal.com/gui/home/url - check the links by copy-pasting them and seeing if they are safe? While not opening them\n",
        "\n",
        "https://haveibeenpwned.com/ - in this website you can check if your email address been in a data breach\n",
        "\n",
        "![](https://media.discordapp.net/attachments/1216750732779327638/1292021330060775525/image.png?ex=67023821&is=6700e6a1&hm=3ebca3ceefa4148b45e132cc0e0d544b4acfcc1db0a657e348c194150514c5b7&=&format=webp&quality=lossless&width=705&height=431)"
      ],
      "metadata": {
        "id": "Er8DKJxqgXZC"
      }
    },
    {
      "cell_type": "code",
      "source": [
        "import re #regular expression module"
      ],
      "metadata": {
        "id": "6lOMlKoLgZyU"
      },
      "execution_count": 1,
      "outputs": []
    },
    {
      "cell_type": "code",
      "source": [
        "text = \"\"\"\n",
        "Alice: 555-123-4567\n",
        "Bob: 333-987-6543\n",
        "Charlie: 777-555-88\n",
        "\"\"\""
      ],
      "metadata": {
        "id": "nW56YQCjlAiE"
      },
      "execution_count": 2,
      "outputs": []
    },
    {
      "cell_type": "code",
      "source": [
        "text"
      ],
      "metadata": {
        "colab": {
          "base_uri": "https://localhost:8080/",
          "height": 35
        },
        "id": "hAoJLxCXlMfm",
        "outputId": "0ae919e5-564b-48f3-abce-6fa9f6987652"
      },
      "execution_count": 3,
      "outputs": [
        {
          "output_type": "execute_result",
          "data": {
            "text/plain": [
              "'\\nAlice: 555-123-4567\\nBob: 333-987-6543\\nCharlie: 777-555-88\\n'"
            ],
            "application/vnd.google.colaboratory.intrinsic+json": {
              "type": "string"
            }
          },
          "metadata": {},
          "execution_count": 3
        }
      ]
    },
    {
      "cell_type": "code",
      "source": [
        "# re.search - first occurance of a pattern\n",
        "# re.findall - finds all the occurances\n",
        "# re.IGNORCASE - pattern matching is case-insensitive\n",
        "\n",
        "# correct format is 3-3-4\n",
        "# reguired output: 555-123-4567, 333-987-6543\n",
        "pattern = r'\\d{3}-\\d{3}-\\d{4}' #figure out the pattern\n",
        "matches = re.findall(pattern, text)\n",
        "print(matches)\n"
      ],
      "metadata": {
        "colab": {
          "base_uri": "https://localhost:8080/"
        },
        "id": "aPwnDLwBlO8X",
        "outputId": "d0e2163b-0962-467b-ca31-d6a3b8b591bc"
      },
      "execution_count": 7,
      "outputs": [
        {
          "output_type": "stream",
          "name": "stdout",
          "text": [
            "['555-123-4567', '333-987-6543']\n"
          ]
        }
      ]
    },
    {
      "cell_type": "markdown",
      "source": [
        "### Dates pattern matching"
      ],
      "metadata": {
        "id": "HpCAfFvSpo6d"
      }
    },
    {
      "cell_type": "code",
      "source": [
        "dates = \"\"\"\n",
        "My dates are: 05-10-2024 and 2022-10-05\n",
        "\"\"\"\n",
        "\n",
        "pattern2 = r'\\d{2}-\\d{2}-\\d{4}'\n",
        "matches2 = re.findall(pattern2, dates)\n",
        "print(matches2)"
      ],
      "metadata": {
        "colab": {
          "base_uri": "https://localhost:8080/"
        },
        "id": "Rz-cY3Oupt00",
        "outputId": "7cbbf7f3-1f58-47d8-83fa-343f8a8f5f56"
      },
      "execution_count": 8,
      "outputs": [
        {
          "output_type": "stream",
          "name": "stdout",
          "text": [
            "['05-10-2024']\n"
          ]
        }
      ]
    },
    {
      "cell_type": "markdown",
      "source": [
        "### e-mail addresses matching"
      ],
      "metadata": {
        "id": "j8DIw0Ccrnj_"
      }
    },
    {
      "cell_type": "code",
      "source": [
        "emails = \"\"\"\n",
        "Emails: liza@example.com, liza4444@example.com, roberta@gmail.com, examp@xx.xx.com, info@company.net\n",
        "\"\"\"\n",
        "\n",
        "\n",
        "# requested output ['liza@example.com', 'roberta@gmail.com', 'info@company.net']\n",
        "pattern3 =  r'\\b[A-Za-z0-9._%+-]+@[A-Za-z0-9.-]+\\.[A-Z|a-z]{2,}\\b'\n",
        "matches3 = re.findall(pattern3, emails)\n",
        "matches3\n"
      ],
      "metadata": {
        "colab": {
          "base_uri": "https://localhost:8080/"
        },
        "id": "tdmUuyL0rsv0",
        "outputId": "3a86c4d9-1b29-444d-82f3-4d778e9c097c"
      },
      "execution_count": 10,
      "outputs": [
        {
          "output_type": "execute_result",
          "data": {
            "text/plain": [
              "['liza@example.com',\n",
              " 'liza4444@example.com',\n",
              " 'roberta@gmail.com',\n",
              " 'examp@xx.xx.com',\n",
              " 'info@company.net']"
            ]
          },
          "metadata": {},
          "execution_count": 10
        }
      ]
    }
  ]
}