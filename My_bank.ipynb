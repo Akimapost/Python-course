{
  "nbformat": 4,
  "nbformat_minor": 0,
  "metadata": {
    "colab": {
      "provenance": []
    },
    "kernelspec": {
      "name": "python3",
      "display_name": "Python 3"
    },
    "language_info": {
      "name": "python"
    }
  },
  "cells": [
    {
      "cell_type": "code",
      "execution_count": null,
      "metadata": {
        "id": "OhC2nm8nnw0B",
        "colab": {
          "base_uri": "https://localhost:8080/"
        },
        "outputId": "99e5ec72-04c4-4735-f8da-dd6612407118"
      },
      "outputs": [
        {
          "output_type": "stream",
          "name": "stdout",
          "text": [
            "We have 3 clients in a bank: \n",
            "Client Anna has the following accounts:\n",
            "    EE657574646747483 (EUR) 1990.0\n",
            "        2024-06-01 09:05:13.538908 EUR 1200\n",
            "        2024-06-01 09:05:13.538946 EUR -50\n",
            "        2024-06-01 09:05:13.538977 EUR -140\n",
            "        2024-06-01 09:05:13.539006 EUR -20\n",
            "    JP665757463633838 (JPY) 2000.0\n",
            "    US687476074657346 (USD) 0.0\n",
            "Client Oskar has the following accounts:\n",
            "    PL565656544545434 (PLN) 47000.0\n",
            "Client Jenifer has the following accounts:\n",
            "    SE756565656565666 (SEK) 200.18\n"
          ]
        }
      ],
      "source": [
        "import datetime\n",
        "\n",
        "# defining a class Client, which will store all data and methods clients\n",
        "class Client:\n",
        "  number_of_clients = 0\n",
        "\n",
        "  def __init__(self, id, name):\n",
        "    self.id = id\n",
        "    self.name = name\n",
        "    self.accounts = [] #every client may have many accounts\n",
        "    Client.number_of_clients +=1\n",
        "\n",
        "  def add_account(self, account):\n",
        "    self.accounts.append(account)\n",
        "\n",
        "# defining a class Account, which will store all data and methods of any account\n",
        "class Account:\n",
        "  def __init__(self, number, currency, balance = 0.0):\n",
        "    self.number = number\n",
        "    self.currency = currency\n",
        "    self.balance = balance\n",
        "    self.transactions= []\n",
        "\n",
        "  def make_deposit(self, amount, note):\n",
        "    self.transactions.append(Transaction(self.currency, amount, note))\n",
        "    self.balance += amount\n",
        "\n",
        "  def make_withdrawal(self, amount, note):\n",
        "    self.transactions.append(Transaction(self.currency, -amount, note))\n",
        "    self.balance -= amount\n",
        "\n",
        "class Transaction:\n",
        "  def __init__(self,currency, amount, note):\n",
        "    self.currency = currency\n",
        "    self.amount = amount\n",
        "    self.note = note\n",
        "    self.time_stamp = datetime.datetime.now()\n",
        "\n",
        "# now, let us work using those classes\n",
        "# adding clients to a list\n",
        "clients = []\n",
        "clients.append(Client('1234569', 'Anna')) #0\n",
        "clients.append(Client('9887655', 'Oskar')) #1\n",
        "clients.append(Client('6422567', 'Jenifer')) #2\n",
        "\n",
        "# adding accounts to clients\n",
        "clients[0].add_account(Account('EE657574646747483', 'EUR', 1000.00)) #account of the client 'Anna'\n",
        "clients[0].add_account(Account('JP665757463633838', 'JPY', 2000.00)) #account of the client 'Anna'\n",
        "clients[0].add_account(Account('US687476074657346', 'USD',)) #account of the client 'Anna'\n",
        "clients[1].add_account(Account('PL565656544545434', 'PLN', 47000.00)) #account of the client 'Oskar'\n",
        "clients[2].add_account(Account('SE756565656565666', 'SEK', 200.18)) #account of the client 'Jenifer'\n",
        "\n",
        "#let's make some transactiont\n",
        "clients[0].accounts[0].make_deposit(1200, 'salary')\n",
        "clients[0].accounts[0].make_withdrawal(50, 'Grocery')\n",
        "clients[0].accounts[0].make_withdrawal(140, 'Clothes')\n",
        "clients[0].accounts[0].make_withdrawal(20, 'Dinner')\n",
        "\n",
        "#print all clients accounts\n",
        "print(f'We have {Client.number_of_clients} clients in a bank: ')\n",
        "for client in clients:\n",
        "  print(f'Client {client.name} has the following accounts:')\n",
        "  for account in client.accounts:\n",
        "    print(f'    {account.number} ({account.currency}) {account.balance}')\n",
        "    for transaction in account.transactions:\n",
        "      print(f'        {transaction.time_stamp} {transaction.currency} {transaction.amount}')"
      ]
    }
  ]
}