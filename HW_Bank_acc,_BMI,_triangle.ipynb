{
  "nbformat": 4,
  "nbformat_minor": 0,
  "metadata": {
    "colab": {
      "provenance": []
    },
    "kernelspec": {
      "name": "python3",
      "display_name": "Python 3"
    },
    "language_info": {
      "name": "python"
    }
  },
  "cells": [
    {
      "cell_type": "code",
      "execution_count": null,
      "metadata": {
        "colab": {
          "base_uri": "https://localhost:8080/"
        },
        "id": "v_0nST7_bZis",
        "outputId": "79d77644-974a-48c8-c917-c40616b579a7"
      },
      "outputs": [
        {
          "output_type": "stream",
          "name": "stdout",
          "text": [
            "Enter your name: DDD\n",
            "Hello, DDD!\n",
            "ACCOUNT HOLDER DISCRIPTION: \n",
            "Account number: 123456789\n",
            "Holders name: Alice Smith\n",
            "Age: 25\n",
            "Married: False\n",
            "Place of birth: Riga, Latvia\n",
            "Date of activation: october, 2023\n",
            "Salary (per month): 1000.5\n",
            "Availalbe amount: 6003.0\n"
          ]
        }
      ],
      "source": [
        "users_name = input (\"Enter your name: \")\n",
        "print(f'Hello, {users_name}!')\n",
        "\n",
        "acc_holders_name = 'Alice'\n",
        "surname = 'Smith'\n",
        "age = 25\n",
        "bank_account = 123456789\n",
        "print ('ACCOUNT HOLDER DISCRIPTION: ' '\\n' f'Account number: {bank_account}' '\\n' f'Holders name: {acc_holders_name} {surname}' '\\n' f'Age: {age}')\n",
        "#print (f'Account number: {bank_account}')\n",
        "\n",
        "married = False\n",
        "print (f\"Married: {married}\")\n",
        "\n",
        "place_of_birth = 'Riga, Latvia'\n",
        "print (f\"Place of birth: {place_of_birth}\")\n",
        "\n",
        "acc_opening_date = 2023\n",
        "month = 'october'\n",
        "salary = 1000.5\n",
        "salary_for_period = salary * 6\n",
        "print (f\"Date of activation: {month}, {acc_opening_date}\")\n",
        "print (f\"Salary (per month): {salary}\"'\\n'f\"Availalbe amount: {salary_for_period}\")"
      ]
    },
    {
      "cell_type": "code",
      "source": [
        "# Prompt the user to enter the length and the height of the triangle in miles\n",
        "base_miles = float(input('Enter the length of the base of the triangle (in miles): '))\n",
        "height_miles = float(input('Enter the height of the triangle (in miles): '))\n",
        "\n",
        "# Convert miles to kilometers (1 mile = 1.60934 kilometers)\n",
        "base_km = base_miles * 1.60934\n",
        "height_km = height_miles * 1.60934\n",
        "\n",
        "# Calculate the area of the triangle (Area = 0.5 * base * height)\n",
        "area_sq_km = round(0.5 * base_km * height_km, 2)\n",
        "\n",
        "# Display the result\n",
        "print(\"Area of the triangle:\", area_sq_km, \"square kilometers\")"
      ],
      "metadata": {
        "colab": {
          "base_uri": "https://localhost:8080/"
        },
        "id": "jdhnd5gdemyi",
        "outputId": "e01bf274-3fe4-443b-8271-56ac6d6be2ef"
      },
      "execution_count": null,
      "outputs": [
        {
          "output_type": "stream",
          "name": "stdout",
          "text": [
            "Enter the length of the base of the triangle (in miles): 43\n",
            "Enter the height of the triangle (in miles): 6.7\n",
            "Area of the triangle: 373.09 square kilometers\n"
          ]
        }
      ]
    },
    {
      "cell_type": "code",
      "source": [
        "\n",
        "# Prompt the user to enter weight in kilograms\n",
        "weight_kg = float(input('Enter your weight in kilograms: '))\n",
        "\n",
        "# Prompt the user to enter height in meters\n",
        "height_m = float(input('Enter your height in meters: '))\n",
        "\n",
        "# Calculate BMI\n",
        "bmi = round(weight_kg / (height_m ** 2), 2)\n",
        "\n",
        "# Display the BMI\n",
        "print(f'Your BMI is: {bmi}')"
      ],
      "metadata": {
        "id": "5M1ixl69-63n"
      },
      "execution_count": null,
      "outputs": []
    },
    {
      "cell_type": "code",
      "source": [
        "# Prompt the user to enter the length and the height of the triangle in miles\n",
        "base_miles = float(input('Enter the length of the base of the triangle (in miles): '))\n",
        "height_miles = float(input('Enter the height of the triangle (in miles): '))\n",
        "\n",
        "# Convert miles to kilometers (1 mile = 1.60934 kilometers)\n",
        "base_km = base_miles * 1.60934\n",
        "height_km = height_miles * 1.60934\n",
        "\n",
        "# Calculate the area of the triangle (Area = 0.5 * base * height)\n",
        "area_sq_km = round(0.5 * base_km * height_km, 2)\n",
        "\n",
        "# Display the result\n",
        "print(\"Area of the triangle:\", area_sq_km, \"square kilometers\")"
      ],
      "metadata": {
        "id": "xSBx9_hL--dw"
      },
      "execution_count": null,
      "outputs": []
    },
    {
      "cell_type": "code",
      "source": [
        "pounds = input(\"Enter the weight in pounds: \")\n",
        "\n",
        "pounds_float = float(pounds)\n",
        "CONVERSION_FACTOR = 0.453592 # constant variable\n",
        "\n",
        "kilograms = round(pounds_float * CONVERSION_FACTOR, 3)\n",
        "\n",
        "print(f'Weight in pounds: {pounds} lb, Weight in Kilograms: {kilograms} kg')"
      ],
      "metadata": {
        "id": "yjhkBv-x_BlQ"
      },
      "execution_count": null,
      "outputs": []
    }
  ]
}