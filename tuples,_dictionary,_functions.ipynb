{
  "nbformat": 4,
  "nbformat_minor": 0,
  "metadata": {
    "colab": {
      "provenance": []
    },
    "kernelspec": {
      "name": "python3",
      "display_name": "Python 3"
    },
    "language_info": {
      "name": "python"
    }
  },
  "cells": [
    {
      "cell_type": "code",
      "execution_count": null,
      "metadata": {
        "colab": {
          "base_uri": "https://localhost:8080/"
        },
        "id": "cAOgUmidgoAO",
        "outputId": "c9fbdd3f-a912-4977-d2b5-8f275341de65"
      },
      "outputs": [
        {
          "output_type": "stream",
          "name": "stdout",
          "text": [
            "(1, 2, 3)\n"
          ]
        }
      ],
      "source": [
        "#Tuples\n",
        "\n",
        "my_dict = {} # define a dictionary\n",
        "my_list = [] # define a list\n",
        "\n",
        "my_tuple = (1, 2, 3,) # define a tuple\n",
        "print(my_tuple)"
      ]
    },
    {
      "cell_type": "code",
      "source": [
        "new_list = [1, 2, 3, 4]\n",
        "print(new_list)\n",
        "\n",
        "#transform a list to a tuple\n",
        "#any time of data could be transformed to a tuple,\n",
        "# but after than it's imposible to change them\n",
        "new_tuple = tuple(new_list)\n",
        "type(new_tuple)\n"
      ],
      "metadata": {
        "colab": {
          "base_uri": "https://localhost:8080/"
        },
        "id": "pozljZCehw5r",
        "outputId": "c9f0b721-debc-47c9-fa26-aee6573e5541"
      },
      "execution_count": null,
      "outputs": [
        {
          "output_type": "stream",
          "name": "stdout",
          "text": [
            "[1, 2, 3, 4]\n"
          ]
        },
        {
          "output_type": "execute_result",
          "data": {
            "text/plain": [
              "tuple"
            ]
          },
          "metadata": {},
          "execution_count": 3
        }
      ]
    },
    {
      "cell_type": "code",
      "source": [
        "new_tuple[0:3] #you can index into tuples\n"
      ],
      "metadata": {
        "colab": {
          "base_uri": "https://localhost:8080/"
        },
        "id": "tV-1J4A4ik65",
        "outputId": "104e1f1d-3507-4db4-a7e1-c4140eb924a6"
      },
      "execution_count": null,
      "outputs": [
        {
          "output_type": "execute_result",
          "data": {
            "text/plain": [
              "(1, 2, 3)"
            ]
          },
          "metadata": {},
          "execution_count": 6
        }
      ]
    },
    {
      "cell_type": "code",
      "source": [
        "#common functions for tuples\n",
        "len(new_tuple) #length\n",
        "min(new_tuple) #min\n",
        "max(new_tuple) #max\n",
        "sum(new_tuple) #sum"
      ],
      "metadata": {
        "colab": {
          "base_uri": "https://localhost:8080/"
        },
        "id": "1P0cT2ZkjXiJ",
        "outputId": "337e8f4f-0689-4b30-8f93-26b84f53ba94"
      },
      "execution_count": null,
      "outputs": [
        {
          "output_type": "execute_result",
          "data": {
            "text/plain": [
              "10"
            ]
          },
          "metadata": {},
          "execution_count": 5
        }
      ]
    },
    {
      "cell_type": "code",
      "source": [
        "###Dictionary\n",
        "#create a dictionary - 2 same ways to create an umpty dict\n",
        "dictionary = {} #curly braces method\n",
        "another_dictionary = dict() #dict method"
      ],
      "metadata": {
        "id": "5Pmw85UskGgO"
      },
      "execution_count": null,
      "outputs": []
    },
    {
      "cell_type": "code",
      "source": [
        "dictionary = {} #initialize a dict\n",
        "dictionary['key1'] = 'value1' #add an element to the dict\n",
        "dictionary['key2'] = 'value2'\n",
        "dictionary['key3'] = [1, 2, 3]"
      ],
      "metadata": {
        "id": "Tust68H9mhI6"
      },
      "execution_count": null,
      "outputs": []
    },
    {
      "cell_type": "code",
      "source": [
        "dictionary['key3'] #we use a key to get the element"
      ],
      "metadata": {
        "colab": {
          "base_uri": "https://localhost:8080/"
        },
        "id": "O1TmQxvVnJvQ",
        "outputId": "73afb8e3-46b6-42b9-964f-e24144675f2d"
      },
      "execution_count": null,
      "outputs": [
        {
          "output_type": "execute_result",
          "data": {
            "text/plain": [
              "[1, 2, 3]"
            ]
          },
          "metadata": {},
          "execution_count": 15
        }
      ]
    },
    {
      "cell_type": "code",
      "source": [
        "dictionary['datorium_list'] = ['Python', 'Java', 'C#']\n",
        "dictionary"
      ],
      "metadata": {
        "colab": {
          "base_uri": "https://localhost:8080/"
        },
        "id": "NAE3piIxplee",
        "outputId": "9aa3fac7-87c6-4ba1-f3a9-0037a0f86693"
      },
      "execution_count": null,
      "outputs": [
        {
          "output_type": "execute_result",
          "data": {
            "text/plain": [
              "{'key1': 'value1',\n",
              " 'key2': 'value2',\n",
              " 'key3': [1, 2, 3],\n",
              " 'datorium_list': ['Python', 'Java', 'C#']}"
            ]
          },
          "metadata": {},
          "execution_count": 16
        }
      ]
    },
    {
      "cell_type": "code",
      "source": [
        "dictionary['datorium_list'] = [1,2,3] #value was overwriten: we can't hawe 2 different values with the same key"
      ],
      "metadata": {
        "id": "vmSOtbbbqJK_"
      },
      "execution_count": null,
      "outputs": []
    },
    {
      "cell_type": "code",
      "source": [],
      "metadata": {
        "id": "GxRsLEaUrCeG"
      },
      "execution_count": null,
      "outputs": []
    },
    {
      "cell_type": "code",
      "source": [
        "dictionary"
      ],
      "metadata": {
        "colab": {
          "base_uri": "https://localhost:8080/"
        },
        "id": "gNuF95WnqNpq",
        "outputId": "4508c20c-fe8e-4f64-c128-60a125127702"
      },
      "execution_count": null,
      "outputs": [
        {
          "output_type": "execute_result",
          "data": {
            "text/plain": [
              "{'key1': 'value1',\n",
              " 'key2': 'value2',\n",
              " 'key3': [1, 2, 3],\n",
              " 'datorium_list': [1, 2, 3]}"
            ]
          },
          "metadata": {},
          "execution_count": 18
        }
      ]
    },
    {
      "cell_type": "code",
      "source": [
        "#Python dictionary methods\n",
        "\n",
        "my_friends = {'Alice': 30,\n",
        "              'John': 40,\n",
        "              'Linda': 28}\n"
      ],
      "metadata": {
        "id": "tUyJXfK3rDkj"
      },
      "execution_count": null,
      "outputs": []
    },
    {
      "cell_type": "code",
      "source": [
        "my_friends['Linda']"
      ],
      "metadata": {
        "colab": {
          "base_uri": "https://localhost:8080/"
        },
        "id": "S6ImGOCDrc38",
        "outputId": "383a24a1-53c7-40fe-998a-0a8f065c43f3"
      },
      "execution_count": null,
      "outputs": [
        {
          "output_type": "execute_result",
          "data": {
            "text/plain": [
              "28"
            ]
          },
          "metadata": {},
          "execution_count": 20
        }
      ]
    },
    {
      "cell_type": "code",
      "source": [
        "#update() - adds new dict to existing one\n",
        "\n",
        "incoming_friends = {\"Arta\": 28}\n",
        "\n",
        "my_friends.update(incoming_friends)"
      ],
      "metadata": {
        "id": "1qyYrPPhrqKv"
      },
      "execution_count": null,
      "outputs": []
    },
    {
      "cell_type": "markdown",
      "source": [],
      "metadata": {
        "id": "MDJrtbYMrDOJ"
      }
    },
    {
      "cell_type": "code",
      "source": [
        "#pop() - removing an element\n",
        "\n",
        "my_friends.pop('Alice')"
      ],
      "metadata": {
        "colab": {
          "base_uri": "https://localhost:8080/"
        },
        "id": "VwO1qDKMst1p",
        "outputId": "3831fc02-6fd7-44a5-be7b-f3dc92542115"
      },
      "execution_count": null,
      "outputs": [
        {
          "output_type": "execute_result",
          "data": {
            "text/plain": [
              "30"
            ]
          },
          "metadata": {},
          "execution_count": 24
        }
      ]
    },
    {
      "cell_type": "code",
      "source": [
        "my_friends"
      ],
      "metadata": {
        "colab": {
          "base_uri": "https://localhost:8080/"
        },
        "id": "eNKID63ms7iF",
        "outputId": "db1c5bb1-3005-4811-fd2d-5ff817703a4d"
      },
      "execution_count": null,
      "outputs": [
        {
          "output_type": "execute_result",
          "data": {
            "text/plain": [
              "{'John': 40, 'Linda': 28, 'Arta': 28}"
            ]
          },
          "metadata": {},
          "execution_count": 25
        }
      ]
    },
    {
      "cell_type": "code",
      "source": [
        "#get() - check if an element exist in the dict\n",
        "#my_friends['Alice'] - KeyError: 'Alice'\n",
        "my_friends.get('Alice', 'This person doesnt exist in the dictionary!')\n"
      ],
      "metadata": {
        "colab": {
          "base_uri": "https://localhost:8080/",
          "height": 35
        },
        "id": "FYEJjr4wtRhv",
        "outputId": "2063ecdd-5fc8-4bb7-b162-2bd8387ecddd"
      },
      "execution_count": null,
      "outputs": [
        {
          "output_type": "execute_result",
          "data": {
            "text/plain": [
              "'This person doesnt exist in the dictionary!'"
            ],
            "application/vnd.google.colaboratory.intrinsic+json": {
              "type": "string"
            }
          },
          "metadata": {},
          "execution_count": 27
        }
      ]
    },
    {
      "cell_type": "code",
      "source": [
        "#items(), keys(), values()\n",
        "#items() - returns all  the obj from the dict\n",
        "my_friends.items()\n",
        "#keys - return only keys\n",
        "my_friends.keys()\n",
        "#values()\n",
        "my_friends.values()"
      ],
      "metadata": {
        "colab": {
          "base_uri": "https://localhost:8080/"
        },
        "id": "Qu-RLwIxuKTJ",
        "outputId": "556db5a9-b0e3-4ce4-f07e-4d6df7d440d0"
      },
      "execution_count": null,
      "outputs": [
        {
          "output_type": "execute_result",
          "data": {
            "text/plain": [
              "dict_items([('John', 40), ('Linda', 28), ('Arta', 28)])"
            ]
          },
          "metadata": {},
          "execution_count": 28
        }
      ]
    },
    {
      "cell_type": "markdown",
      "source": [
        "###Contact book"
      ],
      "metadata": {
        "id": "t-st6s7WyU7B"
      }
    },
    {
      "cell_type": "code",
      "source": [
        "contact_book = {} #initiate an empty dict\n",
        "while True:\n",
        "  name = input('Enter the name or \"Stop\" to quit: ') #key\n",
        "  if name == 'Stop':\n",
        "    break\n",
        "  number = input('Enter number: ') #value\n",
        "  contact_book[name] = number #adding element to the dict\n",
        "  print(f'Contact {name} added successfully!')"
      ],
      "metadata": {
        "colab": {
          "base_uri": "https://localhost:8080/"
        },
        "id": "XqV5PlZKyXwJ",
        "outputId": "df767d6d-d22e-468a-dbcc-fda7a6e40537"
      },
      "execution_count": null,
      "outputs": [
        {
          "output_type": "stream",
          "name": "stdout",
          "text": [
            "Enter the name: Roberta\n",
            "Enter number: 123444\n",
            "Contact Roberta added successfully!\n"
          ]
        }
      ]
    },
    {
      "cell_type": "code",
      "source": [
        "fruits = {} #initiate an empty dict\n",
        "while True:\n",
        "  exit = input('If you want to exit write STOP. ')\n",
        "  if exit == 'STOP':\n",
        "    print(\"You've stopped for today.\")\n",
        "    break\n",
        "  name = input('Enter the name or fruit: ') #key\n",
        "  day = input('Enter the day best before: ') #value\n",
        "  fruits[name] = day #adding element to the dict\n",
        "  print(f'Pruduct {name} added successfully!')"
      ],
      "metadata": {
        "colab": {
          "base_uri": "https://localhost:8080/"
        },
        "id": "jnxLGQ1q2PAe",
        "outputId": "621d1768-64a6-4384-e560-be98c91adc75"
      },
      "execution_count": null,
      "outputs": [
        {
          "output_type": "stream",
          "name": "stdout",
          "text": [
            "If you want to exit write STOP. \n",
            "Enter the name or fruit: Apple\n",
            "Enter the day best before: 06.06\n",
            "Pruduct Apple added successfully!\n",
            "If you want to exit write STOP. Pineapple\n",
            "Enter the name or fruit: 07.06\n",
            "Enter the day best before: 07.06\n",
            "Pruduct 07.06 added successfully!\n",
            "If you want to exit write STOP. STOP\n",
            "You've stopped for today.\n"
          ]
        }
      ]
    },
    {
      "cell_type": "code",
      "source": [
        "fruits"
      ],
      "metadata": {
        "colab": {
          "base_uri": "https://localhost:8080/"
        },
        "id": "syWlj51V3O9l",
        "outputId": "bad07ad3-02c9-41ae-b453-6cf169891415"
      },
      "execution_count": null,
      "outputs": [
        {
          "output_type": "execute_result",
          "data": {
            "text/plain": [
              "{'Apple': '06.06', '07.06': '07.06'}"
            ]
          },
          "metadata": {},
          "execution_count": 41
        }
      ]
    },
    {
      "cell_type": "code",
      "source": [
        "#Functions\n",
        "\n",
        "inventory = {}\n",
        "\n",
        "def add_item(inventory): #function of adding an item into a dict\n",
        "  store_item = input(\"Enter the item name: \")\n",
        "  item_quantity = input(\"Enter the quantity for the item: \")\n",
        "  inventory[store_item] = item_quantity\n",
        "  print(f\"Item {store_item} quantity updated!\")\n"
      ],
      "metadata": {
        "id": "L5nbB91b5luj"
      },
      "execution_count": null,
      "outputs": []
    },
    {
      "cell_type": "code",
      "source": [
        "while True:\n",
        "  exit = input('If you want to exit write STOP, else nothing')\n",
        "  if exit == 'STOP':\n",
        "    print(\"You've stopped entries for today. See you next time!\")\n",
        "    break\n",
        "  add_item(inventory)\n",
        "\n"
      ],
      "metadata": {
        "colab": {
          "base_uri": "https://localhost:8080/"
        },
        "id": "7IIK4h6w6Abq",
        "outputId": "08865cd8-7669-4892-c027-da8d7714741d"
      },
      "execution_count": null,
      "outputs": [
        {
          "output_type": "stream",
          "name": "stdout",
          "text": [
            "If you want to exit write STOP, else nothing\n",
            "Enter the item name: pineapple\n",
            "Enter the quantity for the item: 3\n",
            "Item pineapple quantity updated!\n",
            "If you want to exit write STOP, else nothingSTOP\n",
            "You've stopped entries for today. See you next time!\n"
          ]
        }
      ]
    }
  ]
}