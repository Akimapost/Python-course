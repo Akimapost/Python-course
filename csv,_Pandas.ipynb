{
  "nbformat": 4,
  "nbformat_minor": 0,
  "metadata": {
    "colab": {
      "provenance": []
    },
    "kernelspec": {
      "name": "python3",
      "display_name": "Python 3"
    },
    "language_info": {
      "name": "python"
    }
  },
  "cells": [
    {
      "cell_type": "code",
      "execution_count": null,
      "metadata": {
        "colab": {
          "base_uri": "https://localhost:8080/"
        },
        "id": "jWK5l9qmuXyW",
        "outputId": "19d05d62-b511-4326-b432-33dd860f8b54"
      },
      "outputs": [
        {
          "output_type": "stream",
          "name": "stdout",
          "text": [
            "Standert File I/O\n",
            "Jan 1048\n",
            "Feb 989\n",
            "Mar 1108\n",
            "Apr 1207\n",
            "May 1186\n",
            "Jun 1155\n",
            "Jul 1391\n",
            "Aug 1305\n",
            "Sep 1226\n",
            "Oct 1155\n",
            "Nov 1017\n",
            "Dec 1111\n",
            "\n"
          ]
        }
      ],
      "source": [
        "filename = '/content/births.txt' #location\n",
        "\n",
        "with open(filename, 'r') as file: #'r' means read mode\n",
        "  content = file.read()\n",
        "\n",
        "print('Standert File I/O')\n",
        "print(content)\n"
      ]
    },
    {
      "cell_type": "code",
      "source": [
        "\n",
        "for line in content:\n",
        "  print(line)"
      ],
      "metadata": {
        "colab": {
          "base_uri": "https://localhost:8080/"
        },
        "id": "ZI2GfNQexh4l",
        "outputId": "658b378a-3e94-4c05-a7be-800a797fc0ae"
      },
      "execution_count": null,
      "outputs": [
        {
          "output_type": "stream",
          "name": "stdout",
          "text": [
            "Jan 1048\n",
            "\n",
            "Feb 989\n",
            "\n",
            "Mar 1108\n",
            "\n",
            "Apr 1207\n",
            "\n",
            "May 1186\n",
            "\n",
            "Jun 1155\n",
            "\n",
            "Jul 1391\n",
            "\n",
            "Aug 1305\n",
            "\n",
            "Sep 1226\n",
            "\n",
            "Oct 1155\n",
            "\n",
            "Nov 1017\n",
            "\n",
            "Dec 1111\n",
            "\n"
          ]
        }
      ]
    },
    {
      "cell_type": "markdown",
      "source": [
        "###Readlines"
      ],
      "metadata": {
        "id": "7tNieangxl5L"
      }
    },
    {
      "cell_type": "code",
      "source": [
        "filename = '/content/births.txt'\n",
        "\n",
        "with open(filename, 'r') as file:\n",
        "  content = file.readlines()\n",
        "\n",
        "print('Standert File I/O')\n",
        "print(content)\n"
      ],
      "metadata": {
        "colab": {
          "base_uri": "https://localhost:8080/"
        },
        "id": "Q6idaA9pxpOu",
        "outputId": "8d8b3b44-c28b-4882-fcda-15bf07717e01"
      },
      "execution_count": null,
      "outputs": [
        {
          "output_type": "stream",
          "name": "stdout",
          "text": [
            "Standert File I/O\n",
            "['Jan 1048\\n', 'Feb 989\\n', 'Mar 1108\\n', 'Apr 1207\\n', 'May 1186\\n', 'Jun 1155\\n', 'Jul 1391\\n', 'Aug 1305\\n', 'Sep 1226\\n', 'Oct 1155\\n', 'Nov 1017\\n', 'Dec 1111\\n']\n"
          ]
        }
      ]
    },
    {
      "cell_type": "code",
      "source": [
        "for line in content:\n",
        "  print(line, end='')"
      ],
      "metadata": {
        "colab": {
          "base_uri": "https://localhost:8080/"
        },
        "id": "BR0GI8UbyE_W",
        "outputId": "14df3293-ce20-4f36-f513-df2f81e4d8ef"
      },
      "execution_count": null,
      "outputs": [
        {
          "output_type": "stream",
          "name": "stdout",
          "text": [
            "Jan 1048\n",
            "Feb 989\n",
            "Mar 1108\n",
            "Apr 1207\n",
            "May 1186\n",
            "Jun 1155\n",
            "Jul 1391\n",
            "Aug 1305\n",
            "Sep 1226\n",
            "Oct 1155\n",
            "Nov 1017\n",
            "Dec 1111\n"
          ]
        }
      ]
    },
    {
      "cell_type": "code",
      "source": [
        "filename = input(\"Please input the file name: \")\n",
        "\n",
        "try:\n",
        "  with open(filename, 'r') as file:\n",
        "    content = file.readlines()\n",
        "\n",
        "  print(\"Standard file input/output:\")\n",
        "  print(content)\n",
        "\n",
        "except:\n",
        "  print(\"This filename does not exist!\")"
      ],
      "metadata": {
        "colab": {
          "base_uri": "https://localhost:8080/"
        },
        "id": "eSxipR6ry0-h",
        "outputId": "3ae23dad-351c-4425-b376-69b50dc63fb1"
      },
      "execution_count": null,
      "outputs": [
        {
          "output_type": "stream",
          "name": "stdout",
          "text": [
            "Please input the file name: /content/births.txt\n",
            "Standard file input/output:\n",
            "['Jan 1048\\n', 'Feb 989\\n', 'Mar 1108\\n', 'Apr 1207\\n', 'May 1186\\n', 'Jun 1155\\n', 'Jul 1391\\n', 'Aug 1305\\n', 'Sep 1226\\n', 'Oct 1155\\n', 'Nov 1017\\n', 'Dec 1111\\n']\n"
          ]
        }
      ]
    },
    {
      "cell_type": "code",
      "source": [
        "# births\n",
        "\n",
        "with open('/content/births.txt', 'r') as file:\n",
        "    births = file.readlines()\n",
        "\n",
        "for birthline in births:\n",
        "    print(birthline[4:]) #get 4th element and after them - list[from this index : to this index]"
      ],
      "metadata": {
        "id": "-At1QCL80KY0"
      },
      "execution_count": null,
      "outputs": []
    },
    {
      "cell_type": "code",
      "source": [
        "#sum up all the elements\n",
        "birth_sum = 0\n",
        "for birthline in births:\n",
        "    birth_sum = birth_sum + int(birthline[4:])\n",
        "\n",
        "print(birth_sum)"
      ],
      "metadata": {
        "colab": {
          "base_uri": "https://localhost:8080/"
        },
        "id": "inwUZbvZ2mc5",
        "outputId": "44b294ac-5a58-4d9c-c77e-83b47a507c31"
      },
      "execution_count": null,
      "outputs": [
        {
          "output_type": "stream",
          "name": "stdout",
          "text": [
            "13898\n"
          ]
        }
      ]
    },
    {
      "cell_type": "markdown",
      "source": [
        "The file births.txt contains the number of births in Estonia for a\n",
        "certain time period by months, while the file deaths.txt contains the\n",
        "number of deaths.\n",
        "Write a program that finds and outputs the months when the natural\n",
        "population growth was positive and its size.\n",
        "Update your program so that it also finds and outputs the natural\n",
        "population growth for the entire period covered in the files."
      ],
      "metadata": {
        "id": "XPuVe1Dt4l_1"
      }
    },
    {
      "cell_type": "code",
      "source": [
        "# births\n",
        "with open('/content/births.txt', 'r') as file:\n",
        "    births = file.readlines() #LIST, separated with a coma\n",
        "\n",
        "#deaths\n",
        "with open('/content/deaths.txt', 'r') as file:\n",
        "    deaths = file.readlines() #LIST, separated with a coma"
      ],
      "metadata": {
        "id": "05cCPAhM4oIY"
      },
      "execution_count": null,
      "outputs": []
    },
    {
      "cell_type": "code",
      "source": [
        "#accessing the number: int(birthline[4:])\n",
        "\n",
        "for i in range(len(births)):\n",
        "  birthline = births[i]\n",
        "  deathline = deaths[i]\n",
        "\n",
        "  birthnumber = int(birthline[4:])\n",
        "  deathnumber = int(deathline[4:])\n",
        "\n",
        "  growth = birthnumber - deathnumber\n",
        "  month = birthline[:3]\n",
        "  if growth > 0:\n",
        "    print(month, growth)"
      ],
      "metadata": {
        "colab": {
          "base_uri": "https://localhost:8080/"
        },
        "id": "X4O2lwU75cmk",
        "outputId": "1570fd45-bcf1-4bfe-de86-122b2b6c6633"
      },
      "execution_count": null,
      "outputs": [
        {
          "output_type": "stream",
          "name": "stdout",
          "text": [
            "Jun 40\n",
            "Jul 64\n",
            "Aug 103\n",
            "Sep 49\n"
          ]
        }
      ]
    },
    {
      "cell_type": "code",
      "source": [
        "import pandas as pd #anything else could also work\n",
        "# https://pandas.pydata.org/docs/\n",
        "\n",
        "births = pd.read_csv('/content/births.txt', header=None, delimiter=' ') #read in many different file types\n",
        "birth_column_names = ['Month', 'Nr.births']\n",
        "births.columns = birth_column_names\n",
        "births"
      ],
      "metadata": {
        "id": "7MRFzjwXA2JT"
      },
      "execution_count": null,
      "outputs": []
    },
    {
      "cell_type": "code",
      "source": [
        "#deaths\n",
        "\n",
        "deaths = pd.read_csv('/content/deaths.txt', header=None, delimiter=' ') #read in many different file types\n",
        "death_column_names = ['Month', 'Nr.deaths']\n",
        "deaths.columns = death_column_names\n",
        "deaths"
      ],
      "metadata": {
        "id": "gEJnAVa4D-cS"
      },
      "execution_count": null,
      "outputs": []
    },
    {
      "cell_type": "code",
      "source": [
        "births['Saldo'] = births['Nr.births'] - deaths['Nr.deaths']\n",
        "births['Nr. of deaths'] = deaths['Nr.deaths']\n",
        "births"
      ],
      "metadata": {
        "id": "0f9ivlKiEjD5"
      },
      "execution_count": null,
      "outputs": []
    },
    {
      "cell_type": "code",
      "source": [
        "#export dataframe to .csv file\n",
        "file_name = '/content/output.csv'\n",
        "\n",
        "births.to_csv(file_name, index=False)"
      ],
      "metadata": {
        "id": "Br5CTnI5HdHt"
      },
      "execution_count": null,
      "outputs": []
    },
    {
      "cell_type": "code",
      "source": [
        "import pandas as pd\n",
        "\n",
        "# Load the JSON file\n",
        "data = pd.read_json('/content/students.json')\n",
        "\n",
        "# Extract the 'Students' part of the data\n",
        "students = pd.DataFrame(data['Students'])\n",
        "\n",
        "# Inspect the columns to check if they match the expected names\n",
        "print(\"Columns in the DataFrame:\", students.columns)\n",
        "\n",
        "# Check if the necessary columns exist\n",
        "required_columns = ['Age', 'Grade', 'Major']\n",
        "for column in required_columns:\n",
        "    if column not in students.columns:\n",
        "        print(f\"Error: Missing required column '{column}'\")\n",
        "        exit()\n",
        "\n",
        "# Initialize variables for calculations\n",
        "total_age = 0\n",
        "total_grade = 0\n",
        "total_students = len(students)\n",
        "major_grades = {}\n",
        "major_counts = {}\n",
        "\n",
        "# Loop through every student data\n",
        "for index, student in students.iterrows():\n",
        "    # Calculate total age and grade for all students\n",
        "    total_age += int(student['Age'])\n",
        "    total_grade += int(student['Grade'])\n",
        "\n",
        "    # Calculate total grade by major\n",
        "    major = student['Major']\n",
        "    if major in major_grades:\n",
        "        major_grades[major] += int(student['Grade'])\n",
        "        major_counts[major] += 1\n",
        "    else:\n",
        "        major_grades[major] = int(student['Grade'])\n",
        "        major_counts[major] = 1\n",
        "\n",
        "# Calculate average age and average grade\n",
        "average_age = total_age / total_students\n",
        "average_grade = total_grade / total_students\n",
        "\n",
        "# Calculate average grade by major\n",
        "average_grade_by_major = {major: major_grades[major] / major_counts[major] for major in major_grades}\n",
        "\n",
        "# Print results\n",
        "print(f'Average Age of all students: {round(average_age, 1)}')\n",
        "print(f'Average Grade of all students: {round(average_grade, 1)}')\n",
        "print('Average Grade by Major:')\n",
        "for major, avg_grade in average_grade_by_major.items():\n",
        "    print(f'  {major}: {round(avg_grade, 1)}')\n"
      ],
      "metadata": {
        "colab": {
          "base_uri": "https://localhost:8080/",
          "height": 537
        },
        "id": "Kbv8ke-wJ0eX",
        "outputId": "802b2b89-4799-4395-9586-4a1ec9a54a65"
      },
      "execution_count": null,
      "outputs": [
        {
          "output_type": "stream",
          "name": "stdout",
          "text": [
            "Columns in the DataFrame: Index(['Students'], dtype='object')\n",
            "Error: Missing required column 'Age'\n",
            "Error: Missing required column 'Grade'\n",
            "Error: Missing required column 'Major'\n"
          ]
        },
        {
          "output_type": "error",
          "ename": "KeyError",
          "evalue": "'Age'",
          "traceback": [
            "\u001b[0;31m---------------------------------------------------------------------------\u001b[0m",
            "\u001b[0;31mKeyError\u001b[0m                                  Traceback (most recent call last)",
            "\u001b[0;32m/usr/local/lib/python3.10/dist-packages/pandas/core/indexes/base.py\u001b[0m in \u001b[0;36mget_loc\u001b[0;34m(self, key)\u001b[0m\n\u001b[1;32m   3652\u001b[0m         \u001b[0;32mtry\u001b[0m\u001b[0;34m:\u001b[0m\u001b[0;34m\u001b[0m\u001b[0;34m\u001b[0m\u001b[0m\n\u001b[0;32m-> 3653\u001b[0;31m             \u001b[0;32mreturn\u001b[0m \u001b[0mself\u001b[0m\u001b[0;34m.\u001b[0m\u001b[0m_engine\u001b[0m\u001b[0;34m.\u001b[0m\u001b[0mget_loc\u001b[0m\u001b[0;34m(\u001b[0m\u001b[0mcasted_key\u001b[0m\u001b[0;34m)\u001b[0m\u001b[0;34m\u001b[0m\u001b[0;34m\u001b[0m\u001b[0m\n\u001b[0m\u001b[1;32m   3654\u001b[0m         \u001b[0;32mexcept\u001b[0m \u001b[0mKeyError\u001b[0m \u001b[0;32mas\u001b[0m \u001b[0merr\u001b[0m\u001b[0;34m:\u001b[0m\u001b[0;34m\u001b[0m\u001b[0;34m\u001b[0m\u001b[0m\n",
            "\u001b[0;32m/usr/local/lib/python3.10/dist-packages/pandas/_libs/index.pyx\u001b[0m in \u001b[0;36mpandas._libs.index.IndexEngine.get_loc\u001b[0;34m()\u001b[0m\n",
            "\u001b[0;32m/usr/local/lib/python3.10/dist-packages/pandas/_libs/index.pyx\u001b[0m in \u001b[0;36mpandas._libs.index.IndexEngine.get_loc\u001b[0;34m()\u001b[0m\n",
            "\u001b[0;32mpandas/_libs/hashtable_class_helper.pxi\u001b[0m in \u001b[0;36mpandas._libs.hashtable.PyObjectHashTable.get_item\u001b[0;34m()\u001b[0m\n",
            "\u001b[0;32mpandas/_libs/hashtable_class_helper.pxi\u001b[0m in \u001b[0;36mpandas._libs.hashtable.PyObjectHashTable.get_item\u001b[0;34m()\u001b[0m\n",
            "\u001b[0;31mKeyError\u001b[0m: 'Age'",
            "\nThe above exception was the direct cause of the following exception:\n",
            "\u001b[0;31mKeyError\u001b[0m                                  Traceback (most recent call last)",
            "\u001b[0;32m<ipython-input-1-1a4b44c12641>\u001b[0m in \u001b[0;36m<cell line: 27>\u001b[0;34m()\u001b[0m\n\u001b[1;32m     27\u001b[0m \u001b[0;32mfor\u001b[0m \u001b[0mindex\u001b[0m\u001b[0;34m,\u001b[0m \u001b[0mstudent\u001b[0m \u001b[0;32min\u001b[0m \u001b[0mstudents\u001b[0m\u001b[0;34m.\u001b[0m\u001b[0miterrows\u001b[0m\u001b[0;34m(\u001b[0m\u001b[0;34m)\u001b[0m\u001b[0;34m:\u001b[0m\u001b[0;34m\u001b[0m\u001b[0;34m\u001b[0m\u001b[0m\n\u001b[1;32m     28\u001b[0m     \u001b[0;31m# Calculate total age and grade for all students\u001b[0m\u001b[0;34m\u001b[0m\u001b[0;34m\u001b[0m\u001b[0m\n\u001b[0;32m---> 29\u001b[0;31m     \u001b[0mtotal_age\u001b[0m \u001b[0;34m+=\u001b[0m \u001b[0mint\u001b[0m\u001b[0;34m(\u001b[0m\u001b[0mstudent\u001b[0m\u001b[0;34m[\u001b[0m\u001b[0;34m'Age'\u001b[0m\u001b[0;34m]\u001b[0m\u001b[0;34m)\u001b[0m\u001b[0;34m\u001b[0m\u001b[0;34m\u001b[0m\u001b[0m\n\u001b[0m\u001b[1;32m     30\u001b[0m     \u001b[0mtotal_grade\u001b[0m \u001b[0;34m+=\u001b[0m \u001b[0mint\u001b[0m\u001b[0;34m(\u001b[0m\u001b[0mstudent\u001b[0m\u001b[0;34m[\u001b[0m\u001b[0;34m'Grade'\u001b[0m\u001b[0;34m]\u001b[0m\u001b[0;34m)\u001b[0m\u001b[0;34m\u001b[0m\u001b[0;34m\u001b[0m\u001b[0m\n\u001b[1;32m     31\u001b[0m \u001b[0;34m\u001b[0m\u001b[0m\n",
            "\u001b[0;32m/usr/local/lib/python3.10/dist-packages/pandas/core/series.py\u001b[0m in \u001b[0;36m__getitem__\u001b[0;34m(self, key)\u001b[0m\n\u001b[1;32m   1005\u001b[0m \u001b[0;34m\u001b[0m\u001b[0m\n\u001b[1;32m   1006\u001b[0m         \u001b[0;32melif\u001b[0m \u001b[0mkey_is_scalar\u001b[0m\u001b[0;34m:\u001b[0m\u001b[0;34m\u001b[0m\u001b[0;34m\u001b[0m\u001b[0m\n\u001b[0;32m-> 1007\u001b[0;31m             \u001b[0;32mreturn\u001b[0m \u001b[0mself\u001b[0m\u001b[0;34m.\u001b[0m\u001b[0m_get_value\u001b[0m\u001b[0;34m(\u001b[0m\u001b[0mkey\u001b[0m\u001b[0;34m)\u001b[0m\u001b[0;34m\u001b[0m\u001b[0;34m\u001b[0m\u001b[0m\n\u001b[0m\u001b[1;32m   1008\u001b[0m \u001b[0;34m\u001b[0m\u001b[0m\n\u001b[1;32m   1009\u001b[0m         \u001b[0;32mif\u001b[0m \u001b[0mis_hashable\u001b[0m\u001b[0;34m(\u001b[0m\u001b[0mkey\u001b[0m\u001b[0;34m)\u001b[0m\u001b[0;34m:\u001b[0m\u001b[0;34m\u001b[0m\u001b[0;34m\u001b[0m\u001b[0m\n",
            "\u001b[0;32m/usr/local/lib/python3.10/dist-packages/pandas/core/series.py\u001b[0m in \u001b[0;36m_get_value\u001b[0;34m(self, label, takeable)\u001b[0m\n\u001b[1;32m   1114\u001b[0m \u001b[0;34m\u001b[0m\u001b[0m\n\u001b[1;32m   1115\u001b[0m         \u001b[0;31m# Similar to Index.get_value, but we do not fall back to positional\u001b[0m\u001b[0;34m\u001b[0m\u001b[0;34m\u001b[0m\u001b[0m\n\u001b[0;32m-> 1116\u001b[0;31m         \u001b[0mloc\u001b[0m \u001b[0;34m=\u001b[0m \u001b[0mself\u001b[0m\u001b[0;34m.\u001b[0m\u001b[0mindex\u001b[0m\u001b[0;34m.\u001b[0m\u001b[0mget_loc\u001b[0m\u001b[0;34m(\u001b[0m\u001b[0mlabel\u001b[0m\u001b[0;34m)\u001b[0m\u001b[0;34m\u001b[0m\u001b[0;34m\u001b[0m\u001b[0m\n\u001b[0m\u001b[1;32m   1117\u001b[0m \u001b[0;34m\u001b[0m\u001b[0m\n\u001b[1;32m   1118\u001b[0m         \u001b[0;32mif\u001b[0m \u001b[0mis_integer\u001b[0m\u001b[0;34m(\u001b[0m\u001b[0mloc\u001b[0m\u001b[0;34m)\u001b[0m\u001b[0;34m:\u001b[0m\u001b[0;34m\u001b[0m\u001b[0;34m\u001b[0m\u001b[0m\n",
            "\u001b[0;32m/usr/local/lib/python3.10/dist-packages/pandas/core/indexes/base.py\u001b[0m in \u001b[0;36mget_loc\u001b[0;34m(self, key)\u001b[0m\n\u001b[1;32m   3653\u001b[0m             \u001b[0;32mreturn\u001b[0m \u001b[0mself\u001b[0m\u001b[0;34m.\u001b[0m\u001b[0m_engine\u001b[0m\u001b[0;34m.\u001b[0m\u001b[0mget_loc\u001b[0m\u001b[0;34m(\u001b[0m\u001b[0mcasted_key\u001b[0m\u001b[0;34m)\u001b[0m\u001b[0;34m\u001b[0m\u001b[0;34m\u001b[0m\u001b[0m\n\u001b[1;32m   3654\u001b[0m         \u001b[0;32mexcept\u001b[0m \u001b[0mKeyError\u001b[0m \u001b[0;32mas\u001b[0m \u001b[0merr\u001b[0m\u001b[0;34m:\u001b[0m\u001b[0;34m\u001b[0m\u001b[0;34m\u001b[0m\u001b[0m\n\u001b[0;32m-> 3655\u001b[0;31m             \u001b[0;32mraise\u001b[0m \u001b[0mKeyError\u001b[0m\u001b[0;34m(\u001b[0m\u001b[0mkey\u001b[0m\u001b[0;34m)\u001b[0m \u001b[0;32mfrom\u001b[0m \u001b[0merr\u001b[0m\u001b[0;34m\u001b[0m\u001b[0;34m\u001b[0m\u001b[0m\n\u001b[0m\u001b[1;32m   3656\u001b[0m         \u001b[0;32mexcept\u001b[0m \u001b[0mTypeError\u001b[0m\u001b[0;34m:\u001b[0m\u001b[0;34m\u001b[0m\u001b[0;34m\u001b[0m\u001b[0m\n\u001b[1;32m   3657\u001b[0m             \u001b[0;31m# If we have a listlike key, _check_indexing_error will raise\u001b[0m\u001b[0;34m\u001b[0m\u001b[0;34m\u001b[0m\u001b[0m\n",
            "\u001b[0;31mKeyError\u001b[0m: 'Age'"
          ]
        }
      ]
    }
  ]
}