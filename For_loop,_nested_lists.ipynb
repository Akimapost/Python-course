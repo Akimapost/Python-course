{
  "nbformat": 4,
  "nbformat_minor": 0,
  "metadata": {
    "colab": {
      "provenance": []
    },
    "kernelspec": {
      "name": "python3",
      "display_name": "Python 3"
    },
    "language_info": {
      "name": "python"
    }
  },
  "cells": [
    {
      "cell_type": "markdown",
      "source": [
        "FOR LOOPS"
      ],
      "metadata": {
        "id": "rT4Uv82SXnjC"
      }
    },
    {
      "cell_type": "code",
      "source": [
        "for letter in \"I LOVE PYTHON\": #string iterable object\n",
        "  print(letter, end = '') # \\n new line character\n"
      ],
      "metadata": {
        "colab": {
          "base_uri": "https://localhost:8080/"
        },
        "id": "75cJ2PxiXsPe",
        "outputId": "92cca06a-895a-4f85-bea9-a80d4dfb3a44"
      },
      "execution_count": null,
      "outputs": [
        {
          "output_type": "stream",
          "name": "stdout",
          "text": [
            "I LOVE PYTHON"
          ]
        }
      ]
    },
    {
      "cell_type": "markdown",
      "source": [
        "###FOR LOOP LIST"
      ],
      "metadata": {
        "id": "Izp-uAqGZlGT"
      }
    },
    {
      "cell_type": "code",
      "source": [
        "cities_i_have_been_to = ['Tallin', 'Riga', 'Tartu', 'Aluksne', 'Viru', 'Ventspils']\n"
      ],
      "metadata": {
        "id": "KcuftCmNZRBB"
      },
      "execution_count": null,
      "outputs": []
    },
    {
      "cell_type": "code",
      "source": [],
      "metadata": {
        "id": "cecmQR52b2Jd"
      },
      "execution_count": null,
      "outputs": []
    },
    {
      "cell_type": "code",
      "source": [
        "for city in cities_i_have_been_to:\n",
        "  print(f'I have been to {city}')"
      ],
      "metadata": {
        "colab": {
          "base_uri": "https://localhost:8080/"
        },
        "id": "m8KvlFZFah1h",
        "outputId": "ba1c5d00-813f-40e9-a5e7-dce24f6f3493"
      },
      "execution_count": null,
      "outputs": [
        {
          "output_type": "stream",
          "name": "stdout",
          "text": [
            "I have been to Tallin\n",
            "I have been to Riga\n",
            "I have been to Tartu\n",
            "I have been to Aluksne\n",
            "I have been to Viru\n",
            "I have been to Ventspils\n"
          ]
        }
      ]
    },
    {
      "cell_type": "code",
      "source": [
        "counter = 0 #initialize the counter\n",
        "for city in cities_i_have_been_to:\n",
        "  counter = counter + 1\n",
        "  print(f'{counter}. I have been to {city}')\n"
      ],
      "metadata": {
        "colab": {
          "base_uri": "https://localhost:8080/"
        },
        "id": "XdUPwqt3amUf",
        "outputId": "a0b6213c-6f02-47f6-da8a-faa6b5366c01"
      },
      "execution_count": null,
      "outputs": [
        {
          "output_type": "stream",
          "name": "stdout",
          "text": [
            "1. I have been to Tallin\n",
            "2. I have been to Riga\n",
            "3. I have been to Tartu\n",
            "4. I have been to Aluksne\n",
            "5. I have been to Viru\n",
            "6. I have been to Ventspils\n"
          ]
        }
      ]
    },
    {
      "cell_type": "code",
      "source": [
        "#Add previous city in the ForLoop\n",
        "cities_i_have_been_to = ['Tallin', 'Riga', 'Tartu', 'Aluksne', 'Viru', 'Ventspils']\n",
        "counter = 0 #initialize the counter\n",
        "previous_city = None\n",
        "\n",
        "for city in cities_i_have_been_to:\n",
        "   counter = counter + 1\n",
        "   if previous_city == None:\n",
        "    print(f'{counter}. I have been to {city}.')\n",
        "   else:\n",
        "    print(f'{counter}. I have been to {city}. The previous city I visited was {previous_city}.')\n",
        "   previous_city = city\n",
        "\n",
        "\n",
        "\n"
      ],
      "metadata": {
        "colab": {
          "base_uri": "https://localhost:8080/"
        },
        "id": "2qx7GyDub3Yi",
        "outputId": "8b5f83a6-cc44-4e93-f23d-c983c1821542"
      },
      "execution_count": null,
      "outputs": [
        {
          "output_type": "stream",
          "name": "stdout",
          "text": [
            "1. I have been to Tallin.\n",
            "2. I have been to Riga. The previous city I visited was Tallin.\n",
            "3. I have been to Tartu. The previous city I visited was Riga.\n",
            "4. I have been to Aluksne. The previous city I visited was Tartu.\n",
            "5. I have been to Viru. The previous city I visited was Aluksne.\n",
            "6. I have been to Ventspils. The previous city I visited was Viru.\n"
          ]
        }
      ]
    },
    {
      "cell_type": "markdown",
      "source": [
        "###FOR loops with indexes"
      ],
      "metadata": {
        "id": "laXeYI1Of8W9"
      }
    },
    {
      "cell_type": "code",
      "source": [
        "cities_i_have_been_to = ['Tallin', 'Riga', 'Tartu', 'Aluksne', 'Viru', 'Ventspils']\n",
        "which_year_I_visited = [2020, 2024, 2020, 2021, 2024, 2022]"
      ],
      "metadata": {
        "id": "f765J8SFf2VD"
      },
      "execution_count": null,
      "outputs": []
    },
    {
      "cell_type": "code",
      "source": [
        "range(len(cities_i_have_been_to)) #list of elements\n",
        "list(range(len(cities_i_have_been_to)))"
      ],
      "metadata": {
        "colab": {
          "base_uri": "https://localhost:8080/"
        },
        "id": "P_4_MpgdgIao",
        "outputId": "98562dec-9f14-457f-a239-29454473c1c6"
      },
      "execution_count": null,
      "outputs": [
        {
          "output_type": "execute_result",
          "data": {
            "text/plain": [
              "[0, 1, 2, 3, 4, 5]"
            ]
          },
          "metadata": {},
          "execution_count": 22
        }
      ]
    },
    {
      "cell_type": "code",
      "source": [
        "range(len(cities_i_have_been_to)) #elements [0,1,2,3,4,5,]\n",
        "for i in range(len(cities_i_have_been_to)):\n",
        "  print(cities_i_have_been_to[i])\n",
        "  print(which_year_I_visited[i])\n",
        "  print(f'This is the index {i}')"
      ],
      "metadata": {
        "id": "T1SQ_AOngaE3"
      },
      "execution_count": null,
      "outputs": []
    },
    {
      "cell_type": "code",
      "source": [
        "range(len(cities_i_have_been_to)) #elements [0,1,2,3,4,5,]\n",
        "for i in range(len(cities_i_have_been_to)):\n",
        "  print(f'I have been to {cities_i_have_been_to[i]}. I visited that city in {which_year_I_visited[i]}')"
      ],
      "metadata": {
        "id": "aI0Y7NnNjHqT"
      },
      "execution_count": null,
      "outputs": []
    },
    {
      "cell_type": "markdown",
      "source": [
        "### Nested Lists\n"
      ],
      "metadata": {
        "id": "jdT6Eqfeon8B"
      }
    },
    {
      "cell_type": "code",
      "source": [
        "matrix_2d = [\n",
        "    [1, 2, 3],\n",
        "    [4, 5, 6],\n",
        "    [7, 8, 9]\n",
        "]"
      ],
      "metadata": {
        "id": "lR15FmbMoqxo"
      },
      "execution_count": null,
      "outputs": []
    },
    {
      "cell_type": "code",
      "source": [
        "for i in matrix_2d:\n",
        "  print(f'This is the sub-list: {i}')\n",
        "  for j in i:\n",
        "    print(f'These are the elements of the sub-list {j}')"
      ],
      "metadata": {
        "id": "kClskTV_o2XM"
      },
      "execution_count": null,
      "outputs": []
    },
    {
      "cell_type": "code",
      "source": [
        "grade_mapping = [[90, 'A'], [80, 'B'], [70, 'C'], [60, 'D'], [0, 'F']] #nested list\n",
        "\n",
        "grade_mapping[0] #[90, 'A']\n",
        "grade_mapping[0][1] #'A'\n",
        "grade_mapping[3][1] #'D'"
      ],
      "metadata": {
        "colab": {
          "base_uri": "https://localhost:8080/",
          "height": 35
        },
        "id": "tEVEKVKeqY9H",
        "outputId": "0cb6ac92-5164-4006-b2cb-f23ce5904c2a"
      },
      "execution_count": null,
      "outputs": [
        {
          "output_type": "execute_result",
          "data": {
            "text/plain": [
              "'D'"
            ],
            "application/vnd.google.colaboratory.intrinsic+json": {
              "type": "string"
            }
          },
          "metadata": {},
          "execution_count": 38
        }
      ]
    },
    {
      "cell_type": "code",
      "source": [
        "for threshold, letter_grade in grade_mapping:\n",
        "  print(letter_grade)"
      ],
      "metadata": {
        "id": "PFRrgA08rv80"
      },
      "execution_count": null,
      "outputs": []
    },
    {
      "cell_type": "code",
      "source": [
        "student_names = [\"Alice\", \"Bob\", \"Charlie\", \"David\", \"Eva\"]\n",
        "student_scores = [85, 72, 93, 60, 77]\n",
        "grade_mapping = [[90, 'A'], [80, 'B'], [70, 'C'], [60, 'D'], [0, 'F']]"
      ],
      "metadata": {
        "id": "PUiU-mA2sUzI"
      },
      "execution_count": null,
      "outputs": []
    },
    {
      "cell_type": "code",
      "source": [
        "range(len(student_scores)) #a for loop with range and print out student score\n",
        "for i in range(len(student_scores)):\n",
        "  print(student_scores[i])\n",
        "  print(student_names[i])\n",
        "  score = student_scores[1] #this is the score of each student separately\n",
        "\n",
        "  for number_grade, letter_grade in grade_mapping:\n",
        "\n",
        "    if score>=number_grade:\n",
        "      print(f'Hi, {student_names[i]}, your letter grade is {letter_grade}')\n",
        "      break"
      ],
      "metadata": {
        "id": "UtB0gwubsgUy"
      },
      "execution_count": null,
      "outputs": []
    },
    {
      "cell_type": "code",
      "source": [
        "# an enumerate function\n",
        "student_names = [\"Alice\", \"Bob\", \"Charlie\", \"David\", \"Eva\"]\n",
        "\n",
        "for index, student in enumerate(student_names, start=1):\n",
        "  print(f'Student {index}: {student}')\n",
        "\n"
      ],
      "metadata": {
        "colab": {
          "base_uri": "https://localhost:8080/"
        },
        "id": "2GClNTssw1El",
        "outputId": "877ae75a-2d8f-43f0-c6fe-a1143b98bd3c"
      },
      "execution_count": null,
      "outputs": [
        {
          "output_type": "stream",
          "name": "stdout",
          "text": [
            "Student 1: Alice\n",
            "Student 2: Bob\n",
            "Student 3: Charlie\n",
            "Student 4: David\n",
            "Student 5: Eva\n"
          ]
        }
      ]
    }
  ]
}