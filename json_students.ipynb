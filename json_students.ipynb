{
  "nbformat": 4,
  "nbformat_minor": 0,
  "metadata": {
    "colab": {
      "provenance": []
    },
    "kernelspec": {
      "name": "python3",
      "display_name": "Python 3"
    },
    "language_info": {
      "name": "python"
    }
  },
  "cells": [
    {
      "cell_type": "code",
      "execution_count": null,
      "metadata": {
        "colab": {
          "base_uri": "https://localhost:8080/"
        },
        "id": "YvoN7j-rGTzr",
        "outputId": "b8de4a68-6d51-442a-927c-e8174369a4b9"
      },
      "outputs": [
        {
          "output_type": "stream",
          "name": "stdout",
          "text": [
            "Average Age: 25.2\n",
            "Average Grade: 80.4\n",
            "Average Grade by Major:\n",
            "Politics: 85.1\n",
            "Math: 79.8\n",
            "Econ: 76.2\n"
          ]
        }
      ],
      "source": [
        "#Import data to a dictionary+\n",
        "#Calculate, looping through every student data:\n",
        "#a) Average Age of all students\n",
        "#b) average Grade of all students\n",
        "#c) (optional) calculate average Grade by Major\n",
        "\n",
        "import json\n",
        "\n",
        "# Load data from JSON file\n",
        "with open('students.json') as f:\n",
        "    data = json.load(f)\n",
        "\n",
        "students = data['Students']\n",
        "\n",
        "# Initialize variables for calculations\n",
        "total_age = 0\n",
        "total_grade = 0\n",
        "major_grades = {}\n",
        "\n",
        "# Loop through students to calculate totals and group by major\n",
        "for student in students:\n",
        "    age = int(student['Age'])\n",
        "    grade = int(student['Grade'])\n",
        "    major = student['Major']\n",
        "\n",
        "    total_age += age\n",
        "    total_grade += grade\n",
        "\n",
        "    if major not in major_grades:\n",
        "        major_grades[major] = []\n",
        "    major_grades[major].append(grade)\n",
        "\n",
        "# Calculate average age and average grade\n",
        "average_age = total_age / len(students)\n",
        "average_grade = total_grade / len(students)\n",
        "\n",
        "# Round the average grade to one digit after the decimal point\n",
        "average_grade = round(average_grade, 1)\n",
        "\n",
        "# Calculate average grade by major and round to one decimal place\n",
        "average_grade_by_major = {major: round(sum(grades) / len(grades), 1) for major, grades in major_grades.items()}\n",
        "\n",
        "# Print results\n",
        "print(f'Average Age: {average_age:.1f}')\n",
        "print(f'Average Grade: {average_grade}')\n",
        "\n",
        "print('Average Grade by Major:')\n",
        "for major, avg_grade in average_grade_by_major.items():\n",
        "    print(f'{major}: {avg_grade}')\n",
        "\n"
      ]
    }
  ]
}