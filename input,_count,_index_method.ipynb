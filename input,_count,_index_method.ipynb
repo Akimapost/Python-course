{
  "nbformat": 4,
  "nbformat_minor": 0,
  "metadata": {
    "colab": {
      "provenance": []
    },
    "kernelspec": {
      "name": "python3",
      "display_name": "Python 3"
    },
    "language_info": {
      "name": "python"
    }
  },
  "cells": [
    {
      "cell_type": "code",
      "source": [
        "fruits = [\"apple\", \"orange\", \"kiwi\", \"banana\", \"grape\"]\n",
        "\n",
        "user_input = input(\"Enter a fruit: \")\n",
        "\n",
        "# check if input exists in list\n",
        "\n",
        "if user_input in fruits:\n",
        "  print(\"Yes, it is in the list.\")\n",
        "else:\n",
        "  print(\"Yes, it is in the list.\")"
      ],
      "metadata": {
        "colab": {
          "base_uri": "https://localhost:8080/"
        },
        "id": "U4I25TH7X16r",
        "outputId": "edcdfa45-bffe-4a93-f351-1bc783834eec"
      },
      "execution_count": null,
      "outputs": [
        {
          "output_type": "stream",
          "name": "stdout",
          "text": [
            "Enter a fruit: orange\n",
            "Yes, it is in the list.\n"
          ]
        }
      ]
    },
    {
      "cell_type": "code",
      "source": [
        "numbers = [1, 20, 35, 400, 5]\n",
        "\n",
        "user_input = int(input(\"Enter a number: \")) #input converted to int\n",
        "\n",
        "if user_input in numbers:\n",
        "  if user_input % 2 == 0: #modulus shows if the number can be divided by 2\n",
        "    print(\"is even\")\n",
        "  else:\n",
        "    print(\"is odd\")\n",
        "else:\n",
        "  print(\"this number is not in the list\")\n",
        "\n"
      ],
      "metadata": {
        "colab": {
          "base_uri": "https://localhost:8080/"
        },
        "id": "ser5MK4NZbwA",
        "outputId": "8d8dd5fe-b1ef-44d8-e510-1c497be27acb"
      },
      "execution_count": null,
      "outputs": [
        {
          "output_type": "stream",
          "name": "stdout",
          "text": [
            "Enter a number: 20\n",
            "is even\n"
          ]
        }
      ]
    },
    {
      "cell_type": "markdown",
      "source": [
        "List method"
      ],
      "metadata": {
        "id": "AxMEo6UPcKS8"
      }
    },
    {
      "cell_type": "code",
      "source": [
        "items = ['apple', 'kiwi', 'orange']\n",
        "print(f'original items {items}')\n",
        "\n",
        "my_value = 'banana'\n",
        "items.append(my_value) #shows changed items\n",
        "print(f'changed items {items}')\n"
      ],
      "metadata": {
        "colab": {
          "base_uri": "https://localhost:8080/"
        },
        "id": "8hWjHasFcPy0",
        "outputId": "49593295-543e-4629-95fa-f7c926820f35"
      },
      "execution_count": null,
      "outputs": [
        {
          "output_type": "stream",
          "name": "stdout",
          "text": [
            "original items ['apple', 'kiwi', 'orange']\n",
            "changed items ['apple', 'kiwi', 'orange', 'banana']\n"
          ]
        }
      ]
    },
    {
      "cell_type": "code",
      "source": [
        "#COPY\n",
        "\n",
        "original_list = [1, 20, 35, 400, 5]\n",
        "copied_list = original_list.copy()\n",
        "\n",
        "original_list.append(6)\n",
        "\n",
        "print(original_list)\n",
        "print(copied_list)\n"
      ],
      "metadata": {
        "colab": {
          "base_uri": "https://localhost:8080/"
        },
        "id": "OER4t1_adDz7",
        "outputId": "d68a99f2-b509-4a68-f0e1-67c3e1acdce1"
      },
      "execution_count": null,
      "outputs": [
        {
          "output_type": "stream",
          "name": "stdout",
          "text": [
            "[1, 20, 35, 400, 5, 6]\n",
            "[1, 20, 35, 400, 5]\n"
          ]
        }
      ]
    },
    {
      "cell_type": "code",
      "source": [
        "#COUNT\n",
        "numbers = [1,2,7,6,5,5,5,5]\n",
        "\n",
        "target_number =5\n",
        "count = numbers.count(target_number)\n",
        "print(f'The number {target_number} appears {count} times in the list')"
      ],
      "metadata": {
        "colab": {
          "base_uri": "https://localhost:8080/"
        },
        "id": "9jGnOxxgeGQU",
        "outputId": "5e457e0b-df82-46a9-ed26-36c0ffad9702"
      },
      "execution_count": null,
      "outputs": [
        {
          "output_type": "stream",
          "name": "stdout",
          "text": [
            "The number 5 appears 4 times in the list\n"
          ]
        }
      ]
    },
    {
      "cell_type": "code",
      "source": [
        "#index method\n",
        "\n",
        "fruits = ['apple', 'banana', 'orange']\n",
        "fruits_index = fruits.index('banana')\n",
        "\n",
        "print(f'Index of banana\" is: {fruits_index}')"
      ],
      "metadata": {
        "colab": {
          "base_uri": "https://localhost:8080/"
        },
        "id": "w9dS-aKigARq",
        "outputId": "0dc857d2-e60b-466f-adfd-3a3bff651c11"
      },
      "execution_count": null,
      "outputs": [
        {
          "output_type": "stream",
          "name": "stdout",
          "text": [
            "Index of banana\" is: 1\n"
          ]
        }
      ]
    },
    {
      "cell_type": "code",
      "source": [
        "#INSERT 10 to the list\n",
        "\n",
        "numbers = [1,2,3,4,5]\n",
        "numbers.insert(2, 10)\n",
        "\n",
        "print(numbers)\n"
      ],
      "metadata": {
        "colab": {
          "base_uri": "https://localhost:8080/"
        },
        "id": "ntg0WA3Cg6bA",
        "outputId": "26427e19-1a2e-4562-f301-2ab111b3c8b1"
      },
      "execution_count": null,
      "outputs": [
        {
          "output_type": "stream",
          "name": "stdout",
          "text": [
            "[1, 2, 10, 3, 4, 5]\n"
          ]
        }
      ]
    },
    {
      "cell_type": "code",
      "source": [
        "#POP removes 10 from the list\n",
        "\n",
        "numbers.pop(2)\n",
        "print(numbers)\n",
        "\n",
        "#numbers = [1, 2, 10, 3, 4, 5]\n",
        "#popped_element = numbers.pop(2)\n",
        "#print(popped_element)\n",
        "#print(numbers)"
      ],
      "metadata": {
        "colab": {
          "base_uri": "https://localhost:8080/"
        },
        "id": "qSvYoOgChmVa",
        "outputId": "b6290ba6-8b70-4943-c0a3-08c1bc3c3b4c"
      },
      "execution_count": null,
      "outputs": [
        {
          "output_type": "stream",
          "name": "stdout",
          "text": [
            "[1, 2, 3, 4, 5]\n"
          ]
        }
      ]
    },
    {
      "cell_type": "code",
      "source": [
        "# SORT (sort in a different order, reverse = true/false)\n",
        "\n",
        "numbers = [1, 7, 2, 10, 3, 4, 5]\n",
        "numbers.sort()\n",
        "print(numbers)"
      ],
      "metadata": {
        "colab": {
          "base_uri": "https://localhost:8080/"
        },
        "id": "M7hGHezTiAOP",
        "outputId": "3b946cde-6f8b-4510-a520-84078af7b60d"
      },
      "execution_count": null,
      "outputs": [
        {
          "output_type": "stream",
          "name": "stdout",
          "text": [
            "[1, 2, 3, 4, 5, 7, 10]\n"
          ]
        }
      ]
    },
    {
      "cell_type": "code",
      "source": [
        "# Create a list of 5 number elements\n",
        "numbers = [1, 6, 13, 2, 5]\n",
        "\n",
        "# # Calculate maximum value of the numbers\n",
        "max_value = max(numbers)\n",
        "print(f\"The maximum value in the list is: {max_value}\")\n",
        "\n",
        "# Calculate minimum value of the numbers\n",
        "min_value = min(numbers)\n",
        "print(f\"The minimum value in the list is: {min_value}\")\n",
        "\n",
        "# Calculate average value of numbers\n",
        "average_value = sum(numbers) / len(numbers)\n",
        "print(f\"The average value in the list is: {average_value}\")\n",
        "\n",
        "# Check if the average value of the list if higher than 3 If the average is greater than 3, print \"Average is greater than 3\", otherwise print \"Average is not greater than 3\".\n",
        "if average_value > 3:\n",
        "  print(\"The average value of numbers in the list is higher than 3\")\n",
        "else:\n",
        "  print(\"The average value of numbers on the list is lower than 3\")\n",
        "\n",
        "# Sort the list\n",
        "\n",
        "numbers.sort()\n",
        "\n",
        "# Remove first number of the list\n",
        "\n",
        "numbers.pop(0)\n",
        "\n",
        "# Add your name to the list\n",
        "numbers.append(\"Elina\")\n",
        "\n",
        "# Calculate at what index is your name\n",
        "numbers.index(\"Elina\")"
      ],
      "metadata": {
        "colab": {
          "base_uri": "https://localhost:8080/"
        },
        "id": "zoxyW2HrmLHs",
        "outputId": "836a960a-112f-4709-eefc-f8851f937ed8"
      },
      "execution_count": null,
      "outputs": [
        {
          "output_type": "stream",
          "name": "stdout",
          "text": [
            "The maximum value in the list is: 13\n",
            "The minimum value in the list is: 1\n",
            "The average value in the list is: 5.4\n",
            "The average value of numbers in the list is higher than 3\n"
          ]
        },
        {
          "output_type": "execute_result",
          "data": {
            "text/plain": [
              "4"
            ]
          },
          "metadata": {},
          "execution_count": 26
        }
      ]
    },
    {
      "cell_type": "code",
      "source": [
        "#Range function (start, stop, step)\n",
        "\n",
        "list(range(7))\n",
        "\n",
        "numbers_with_range = range(1, 7) #iterable object [1,2,3,4,5,6,]\n",
        "\n",
        "for number in numbers_with_range:\n",
        "  print(number)\n"
      ],
      "metadata": {
        "colab": {
          "base_uri": "https://localhost:8080/"
        },
        "id": "cjviPxryrmra",
        "outputId": "897f82a3-2784-486f-a9af-888507ba8586"
      },
      "execution_count": null,
      "outputs": [
        {
          "output_type": "stream",
          "name": "stdout",
          "text": [
            "1\n",
            "2\n",
            "3\n",
            "4\n",
            "5\n",
            "6\n"
          ]
        }
      ]
    },
    {
      "cell_type": "code",
      "source": [
        "numbers_with_range = range(1, 7) #iterable object [1,2,3,4,5,6,]\n",
        "\n",
        "for number in numbers_with_range:\n",
        "  number = number*2\n",
        "  print(number)"
      ],
      "metadata": {
        "colab": {
          "base_uri": "https://localhost:8080/"
        },
        "id": "UGU6Sxmot8Cd",
        "outputId": "864139b3-0308-4e38-ad4b-9b3edf54d0b9"
      },
      "execution_count": null,
      "outputs": [
        {
          "output_type": "stream",
          "name": "stdout",
          "text": [
            "2\n",
            "4\n",
            "6\n",
            "8\n",
            "10\n",
            "12\n"
          ]
        }
      ]
    },
    {
      "cell_type": "code",
      "source": [
        "list(range(10, 100, 10)) #the last element is not included"
      ],
      "metadata": {
        "colab": {
          "base_uri": "https://localhost:8080/"
        },
        "id": "QkYkSztPsz-g",
        "outputId": "b955f077-1aae-4ffa-f10a-d332f15134e3"
      },
      "execution_count": null,
      "outputs": [
        {
          "output_type": "execute_result",
          "data": {
            "text/plain": [
              "[10, 20, 30, 40, 50, 60, 70, 80, 90]"
            ]
          },
          "metadata": {},
          "execution_count": 31
        }
      ]
    }
  ]
}